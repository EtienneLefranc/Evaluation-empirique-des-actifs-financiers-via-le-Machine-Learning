{
  "nbformat": 4,
  "nbformat_minor": 0,
  "metadata": {
    "colab": {
      "provenance": [],
      "include_colab_link": true
    },
    "kernelspec": {
      "name": "python3",
      "display_name": "Python 3"
    },
    "language_info": {
      "name": "python"
    }
  },
  "cells": [
    {
      "cell_type": "markdown",
      "metadata": {
        "id": "view-in-github",
        "colab_type": "text"
      },
      "source": [
        "<a href=\"https://colab.research.google.com/github/EtienneLefranc/Evaluation-empirique-des-actifs-financiers-via-le-Machine-Learning/blob/main/puzzle_1008_rdd_sim.ipynb\" target=\"_parent\"><img src=\"https://colab.research.google.com/assets/colab-badge.svg\" alt=\"Open In Colab\"/></a>"
      ]
    },
    {
      "cell_type": "code",
      "execution_count": 1,
      "metadata": {
        "id": "cZ1g023-7j_w"
      },
      "outputs": [],
      "source": [
        "# probability cache\n",
        "prob_dict = {0:0, 1:1, 2:0}\n",
        "\n",
        "# Run the simulation multiple times to get an estimate of the probabilities\n",
        "num_simulations = 100_000"
      ]
    },
    {
      "cell_type": "code",
      "source": [
        "import random\n",
        "\n",
        "def simulate_shootout(n):\n",
        "    # Create a set representing all people in the room.\n",
        "    # Each person is represented by a unique number.\n",
        "    persons_alive = set(range(n))\n",
        "    count_alive = n\n",
        "\n",
        "    while True:\n",
        "\n",
        "        # This round's victims\n",
        "        victims = []\n",
        "\n",
        "        # Each person shoots at a random other person\n",
        "        for person in persons_alive:\n",
        "            # generate random number from 1 to N-1 (0 to N-2 for python)\n",
        "            if count_alive >= 3:\n",
        "                target = random.randint(0, count_alive - 2)\n",
        "            else:\n",
        "                target = 0\n",
        "\n",
        "            # replace self with the Nth person.\n",
        "            if target == person:\n",
        "                target = count_alive - 1\n",
        "\n",
        "            victims.append(target)\n",
        "\n",
        "        # The people shot are removed from the room\n",
        "        for victim in set(victims):\n",
        "            persons_alive.remove(victim)\n",
        "\n",
        "        count_alive = len(persons_alive)\n",
        "\n",
        "        if count_alive <= 1:\n",
        "            break\n",
        "\n",
        "        # rename the persons from 1 to N\n",
        "        persons_alive = set(range(count_alive))\n",
        "\n",
        "\n",
        "    # Return the number of survivors (either 0 or 1)\n",
        "    return len(persons_alive)\n",
        "\n",
        "\n",
        "for n_people in range(3, 100 + 1):\n",
        "    if n_people not in prob_dict:\n",
        "        survivors = [0, 0]\n",
        "        for _ in range(num_simulations):\n",
        "            num_survivors = simulate_shootout(n_people)\n",
        "            survivors[num_survivors] += 1\n",
        "\n",
        "        prob_dict[n_people] = survivors[1]/num_simulations\n",
        "        # Print the estimated probabilities\n",
        "    print(f\"{n_people}: {prob_dict[n_people]}\")\n"
      ],
      "metadata": {
        "colab": {
          "base_uri": "https://localhost:8080/"
        },
        "id": "2MTcD8Ty7qOs",
        "outputId": "5e47f89c-6ad1-4da1-f986-9e07e73da90c"
      },
      "execution_count": 2,
      "outputs": [
        {
          "output_type": "stream",
          "name": "stdout",
          "text": [
            "3: 0.74688\n",
            "4: 0.59265\n",
            "5: 0.46608\n",
            "6: 0.41686\n",
            "7: 0.4391\n",
            "8: 0.48755\n",
            "9: 0.53195\n",
            "10: 0.55486\n",
            "11: 0.55608\n",
            "12: 0.54432\n",
            "13: 0.5243\n",
            "14: 0.50677\n",
            "15: 0.48922\n",
            "16: 0.47095\n",
            "17: 0.46563\n",
            "18: 0.46094\n",
            "19: 0.46336\n",
            "20: 0.46856\n",
            "21: 0.47781\n",
            "22: 0.48793\n",
            "23: 0.49473\n",
            "24: 0.50732\n",
            "25: 0.51612\n",
            "26: 0.52153\n",
            "27: 0.53025\n",
            "28: 0.5354\n",
            "29: 0.53694\n",
            "30: 0.53928\n",
            "31: 0.53611\n",
            "32: 0.53474\n",
            "33: 0.53119\n",
            "34: 0.52847\n",
            "35: 0.52222\n",
            "36: 0.51794\n",
            "37: 0.51282\n",
            "38: 0.50824\n",
            "39: 0.50487\n",
            "40: 0.5\n",
            "41: 0.49637\n",
            "42: 0.49008\n",
            "43: 0.48659\n",
            "44: 0.48578\n",
            "45: 0.47948\n",
            "46: 0.47655\n",
            "47: 0.47616\n",
            "48: 0.47324\n",
            "49: 0.47125\n",
            "50: 0.47273\n",
            "51: 0.4735\n",
            "52: 0.474\n",
            "53: 0.47479\n",
            "54: 0.47156\n",
            "55: 0.47611\n",
            "56: 0.47815\n",
            "57: 0.48132\n",
            "58: 0.48321\n",
            "59: 0.48522\n",
            "60: 0.48835\n",
            "61: 0.4889\n",
            "62: 0.49472\n",
            "63: 0.4974\n",
            "64: 0.4953\n",
            "65: 0.50203\n",
            "66: 0.50485\n",
            "67: 0.50529\n",
            "68: 0.51195\n",
            "69: 0.51409\n",
            "70: 0.51514\n",
            "71: 0.51943\n",
            "72: 0.52131\n",
            "73: 0.52105\n",
            "74: 0.52451\n",
            "75: 0.52662\n",
            "76: 0.52521\n",
            "77: 0.52944\n",
            "78: 0.53239\n",
            "79: 0.5324\n",
            "80: 0.53148\n",
            "81: 0.53261\n",
            "82: 0.53255\n",
            "83: 0.53233\n",
            "84: 0.53052\n",
            "85: 0.5324\n",
            "86: 0.53046\n",
            "87: 0.53163\n",
            "88: 0.53119\n",
            "89: 0.5318\n",
            "90: 0.52977\n",
            "91: 0.52604\n",
            "92: 0.52656\n",
            "93: 0.52899\n",
            "94: 0.52375\n",
            "95: 0.52378\n",
            "96: 0.52431\n",
            "97: 0.52131\n",
            "98: 0.51829\n",
            "99: 0.51843\n",
            "100: 0.51517\n"
          ]
        }
      ]
    },
    {
      "cell_type": "code",
      "source": [
        "from matplotlib import pyplot as plt\n",
        "plt.plot(prob_dict.keys(), prob_dict.values())"
      ],
      "metadata": {
        "colab": {
          "base_uri": "https://localhost:8080/",
          "height": 448
        },
        "id": "asRunN0z7sAA",
        "outputId": "8ed76dfe-f36d-446f-90c3-fb4cb325be63"
      },
      "execution_count": null,
      "outputs": [
        {
          "output_type": "execute_result",
          "data": {
            "text/plain": [
              "[<matplotlib.lines.Line2D at 0x7f99687700d0>]"
            ]
          },
          "metadata": {},
          "execution_count": 3
        },
        {
          "output_type": "display_data",
          "data": {
            "text/plain": [
              "<Figure size 640x480 with 1 Axes>"
            ],
            "image/png": "[encoded data removed]"
          },
          "metadata": {}
        }
      ]
    },
    {
      "cell_type": "code",
      "source": [],
      "metadata": {
        "id": "Xae-6xwH7sRr"
      },
      "execution_count": null,
      "outputs": []
    }
  ]
}