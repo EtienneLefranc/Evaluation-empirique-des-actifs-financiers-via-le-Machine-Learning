{
 "cells": [
  {
   "cell_type": "code",
   "execution_count": null,
   "id": "69a20aba-6ccf-4466-bb79-055d7a6ad762",
   "metadata": {},
   "outputs": [
    {
     "ename": "",
     "evalue": "",
     "output_type": "error",
     "traceback": [
      "\u001b[1;31mRunning cells with 'c:\\Users\\Fondation\\AppData\\Local\\Microsoft\\WindowsApps\\python3.11.exe' requires the ipykernel package.\n",
      "\u001b[1;31mRun the following command to install 'ipykernel' into the Python environment. \n",
      "\u001b[1;31mCommand: 'c:/Users/Fondation/AppData/Local/Microsoft/WindowsApps/python3.11.exe -m pip install ipykernel -U --user --force-reinstall'"
     ]
    }
   ],
   "source": [
    "import numpy as np\n",
    "import matplotlib.pyplot as plt\n",
    "import pandas as pd\n",
    "from utils import to_datetime, get_Data\n",
    "import seaborn as sns\n",
    "from datetime import datetime\n",
    "from sklearn.linear_model import LinearRegression, ElasticNet, SGDRegressor\n",
    "from sklearn.model_selection import RandomizedSearchCV, GridSearchCV\n",
    "from sklearn.model_selection import RepeatedKFold\n",
    "from sklearn.metrics import r2_score\n",
    "from sklearn.linear_model import HuberRegressor\n",
    "from sklearn.decomposition import PCA\n",
    "from sklearn.preprocessing import StandardScaler\n",
    "from sklearn.cross_decomposition import PLSRegression\n",
    "from sklearn.ensemble import RandomForestRegressor, GradientBoostingRegressor\n",
    "\n",
    "from tensorflow.keras.models import Sequential\n",
    "from tensorflow.keras.layers import Dense\n"
   ]
  },
  {
   "cell_type": "markdown",
   "id": "fa08a5a9-73e3-415d-b316-cf566d561e3d",
   "metadata": {},
   "source": [
    "# Implementation to predicts the returns of the stocks"
   ]
  },
  {
   "cell_type": "code",
   "execution_count": null,
   "id": "ea1dfaa6",
   "metadata": {},
   "outputs": [
    {
     "ename": "",
     "evalue": "",
     "output_type": "error",
     "traceback": [
      "\u001b[1;31mRunning cells with 'c:\\Users\\Fondation\\AppData\\Local\\Microsoft\\WindowsApps\\python3.11.exe' requires the ipykernel package.\n",
      "\u001b[1;31mRun the following command to install 'ipykernel' into the Python environment. \n",
      "\u001b[1;31mCommand: 'c:/Users/Fondation/AppData/Local/Microsoft/WindowsApps/python3.11.exe -m pip install ipykernel -U --user --force-reinstall'"
     ]
    }
   ],
   "source": [
    "newGlob = get_Data()"
   ]
  },
  {
   "cell_type": "code",
   "execution_count": null,
   "id": "cb2a2c27",
   "metadata": {},
   "outputs": [
    {
     "ename": "",
     "evalue": "",
     "output_type": "error",
     "traceback": [
      "\u001b[1;31mRunning cells with 'c:\\Users\\Fondation\\AppData\\Local\\Microsoft\\WindowsApps\\python3.11.exe' requires the ipykernel package.\n",
      "\u001b[1;31mRun the following command to install 'ipykernel' into the Python environment. \n",
      "\u001b[1;31mCommand: 'c:/Users/Fondation/AppData/Local/Microsoft/WindowsApps/python3.11.exe -m pip install ipykernel -U --user --force-reinstall'"
     ]
    }
   ],
   "source": [
    "data_size = pd.read_csv(\"./data/1.csv\",index_col=0)\n",
    "dates = data_size.index\n",
    "stocks = data_size.columns"
   ]
  },
  {
   "cell_type": "code",
   "execution_count": null,
   "id": "68c0acd0",
   "metadata": {},
   "outputs": [
    {
     "ename": "",
     "evalue": "",
     "output_type": "error",
     "traceback": [
      "\u001b[1;31mRunning cells with 'c:\\Users\\Fondation\\AppData\\Local\\Microsoft\\WindowsApps\\python3.11.exe' requires the ipykernel package.\n",
      "\u001b[1;31mRun the following command to install 'ipykernel' into the Python environment. \n",
      "\u001b[1;31mCommand: 'c:/Users/Fondation/AppData/Local/Microsoft/WindowsApps/python3.11.exe -m pip install ipykernel -U --user --force-reinstall'"
     ]
    }
   ],
   "source": [
    "newGlob.head()"
   ]
  },
  {
   "cell_type": "code",
   "execution_count": null,
   "id": "6b776ce4-caac-451a-92d1-b95030563eef",
   "metadata": {},
   "outputs": [
    {
     "ename": "",
     "evalue": "",
     "output_type": "error",
     "traceback": [
      "\u001b[1;31mRunning cells with 'c:\\Users\\Fondation\\AppData\\Local\\Microsoft\\WindowsApps\\python3.11.exe' requires the ipykernel package.\n",
      "\u001b[1;31mRun the following command to install 'ipykernel' into the Python environment. \n",
      "\u001b[1;31mCommand: 'c:/Users/Fondation/AppData/Local/Microsoft/WindowsApps/python3.11.exe -m pip install ipykernel -U --user --force-reinstall'"
     ]
    }
   ],
   "source": [
    "# Specific dates used to split the data\n",
    "deb = to_datetime(\"1999-12-31\")\n",
    "trainDat = to_datetime(\"2012-12-31\") #2021-12-31\"\n",
    "valDat = to_datetime(\"2014-12-31\")#2021-12-31"
   ]
  },
  {
   "cell_type": "code",
   "execution_count": null,
   "id": "2869f5e4-b8ae-4fbf-9567-2ef6ab195db5",
   "metadata": {},
   "outputs": [
    {
     "ename": "",
     "evalue": "",
     "output_type": "error",
     "traceback": [
      "\u001b[1;31mRunning cells with 'c:\\Users\\Fondation\\AppData\\Local\\Microsoft\\WindowsApps\\python3.11.exe' requires the ipykernel package.\n",
      "\u001b[1;31mRun the following command to install 'ipykernel' into the Python environment. \n",
      "\u001b[1;31mCommand: 'c:/Users/Fondation/AppData/Local/Microsoft/WindowsApps/python3.11.exe -m pip install ipykernel -U --user --force-reinstall'"
     ]
    }
   ],
   "source": [
    "# The training sample, containing all the data for the months in between deb and trainDat: \n",
    "\n",
    "X_train = newGlob[(newGlob[\"Date\"] >= deb) & (newGlob[\"Date\"] <= trainDat)]\n",
    "Y_train = X_train[\"Returns\"]\n",
    "\n",
    "X_val = newGlob[(newGlob[\"Date\"] > trainDat) & (newGlob[\"Date\"] <= valDat)]\n",
    "Y_val = X_val[\"Returns\"]\n",
    "\n",
    "# Creating the testing data set \n",
    "X_test = newGlob[(newGlob[\"Date\"] > valDat)]\n",
    "X_sorted = newGlob[(newGlob[\"Date\"] > valDat)]\n",
    "Y_test = X_test[\"Returns\"]\n",
    "\n",
    "# Droping the columns \"Dates\" and \"Returns\" from the X_train database\n",
    "X_train = X_train.drop(columns= [\"Date\", \"Returns\"])\n",
    "X_train_norm = pd.DataFrame(StandardScaler().fit_transform(X_train))\n",
    "\n",
    "X_val = X_val.drop(columns= [\"Date\", \"Returns\"])\n",
    "X_val_norm = pd.DataFrame(StandardScaler().fit_transform(X_val))\n",
    "\n",
    "X_test = X_test.drop(columns= [\"Date\", \"Returns\"])\n",
    "X_test_norm = pd.DataFrame(StandardScaler().fit_transform(X_test))\n",
    "\n",
    "X_sorted = X_sorted.sort_values(by=[\"size\"], ascending = False)\n",
    "X_top = X_sorted.iloc[0:1000, :]\n",
    "Y_top = X_top[\"Returns\"]\n",
    "X_top = X_top.drop(columns = [\"Date\", \"Returns\"])\n",
    "X_top_norm = pd.DataFrame(StandardScaler().fit_transform(X_top))\n",
    "\n",
    "X_sorted = X_sorted.sort_values(by=[\"size\"], ascending = True)\n",
    "X_bottom = X_sorted.iloc[0:1000, :]\n",
    "Y_bottom = X_bottom[\"Returns\"]\n",
    "X_bottom = X_bottom.drop(columns = [\"Date\", \"Returns\"])\n",
    "X_bottom_norm = pd.DataFrame(StandardScaler().fit_transform(X_bottom))\n",
    "\n"
   ]
  },
  {
   "cell_type": "code",
   "execution_count": null,
   "id": "41e13ee3-d4e0-4998-8665-33c647d8d833",
   "metadata": {},
   "outputs": [
    {
     "ename": "",
     "evalue": "",
     "output_type": "error",
     "traceback": [
      "\u001b[1;31mRunning cells with 'c:\\Users\\Fondation\\AppData\\Local\\Microsoft\\WindowsApps\\python3.11.exe' requires the ipykernel package.\n",
      "\u001b[1;31mRun the following command to install 'ipykernel' into the Python environment. \n",
      "\u001b[1;31mCommand: 'c:/Users/Fondation/AppData/Local/Microsoft/WindowsApps/python3.11.exe -m pip install ipykernel -U --user --force-reinstall'"
     ]
    }
   ],
   "source": [
    "Model = []\n",
    "R2 = []\n",
    "Position = []\n",
    "Model_name = []"
   ]
  },
  {
   "cell_type": "markdown",
   "id": "3b94f369-40d5-4c27-90ba-e31898161450",
   "metadata": {},
   "source": [
    "### Classic linear regression models"
   ]
  },
  {
   "cell_type": "markdown",
   "id": "f8165e33-2232-403d-aef3-1a1931730591",
   "metadata": {},
   "source": [
    "#### Linear model with square loss"
   ]
  },
  {
   "cell_type": "code",
   "execution_count": null,
   "id": "76e66d7f-c776-4b44-a7d2-787acf9c44e3",
   "metadata": {},
   "outputs": [
    {
     "ename": "",
     "evalue": "",
     "output_type": "error",
     "traceback": [
      "\u001b[1;31mRunning cells with 'c:\\Users\\Fondation\\AppData\\Local\\Microsoft\\WindowsApps\\python3.11.exe' requires the ipykernel package.\n",
      "\u001b[1;31mRun the following command to install 'ipykernel' into the Python environment. \n",
      "\u001b[1;31mCommand: 'c:/Users/Fondation/AppData/Local/Microsoft/WindowsApps/python3.11.exe -m pip install ipykernel -U --user --force-reinstall'"
     ]
    }
   ],
   "source": [
    "# Linear regression model\n",
    "L2_regressor = LinearRegression()\n",
    "L2_regressor.fit(X_train, Y_train)"
   ]
  },
  {
   "cell_type": "code",
   "execution_count": null,
   "id": "04c3edd2-0600-4010-938b-b9b7889be082",
   "metadata": {},
   "outputs": [
    {
     "ename": "",
     "evalue": "",
     "output_type": "error",
     "traceback": [
      "\u001b[1;31mRunning cells with 'c:\\Users\\Fondation\\AppData\\Local\\Microsoft\\WindowsApps\\python3.11.exe' requires the ipykernel package.\n",
      "\u001b[1;31mRun the following command to install 'ipykernel' into the Python environment. \n",
      "\u001b[1;31mCommand: 'c:/Users/Fondation/AppData/Local/Microsoft/WindowsApps/python3.11.exe -m pip install ipykernel -U --user --force-reinstall'"
     ]
    }
   ],
   "source": [
    "# model evaluation for training set\n",
    "Y_train_predict = L2_regressor.predict(X_train)\n",
    "r2 = r2_score(Y_train, Y_train_predict)\n",
    "print ('Linear with L2 norm R2 score for training is ' + str(r2))\n",
    "\n",
    "# Model evaluation for the testing set\n",
    "cl2_Y_test_predict = L2_regressor.predict(X_test)\n",
    "r2 = r2_score(Y_test, cl2_Y_test_predict)\n",
    "print('Linear with L2 norm R2 score for testing is ' + str(r2))\n",
    "''' Model.append(\"Classic Regression\")\n",
    "R2.append(r2)\n",
    "Position.append(\"All\") '''\n",
    "\n",
    "# Model evaluation for the top 1000 market value stocks of the testing set\n",
    "Y_top_predict = L2_regressor.predict(X_top)\n",
    "r2 = r2_score(Y_top, Y_top_predict)\n",
    "print('Linear with L2 norm R2 score for the top testing is ' + str(r2))\n",
    "''' Model.append(\"Classic Regression\")\n",
    "R2.append(r2)\n",
    "Position.append(\"Top\") '''\n",
    "\n",
    "# Model evaluation for the bottom 1000 market value stocks of the testing set\n",
    "Y_bottom_predict = L2_regressor.predict(X_bottom)\n",
    "r2 = r2_score(Y_bottom, Y_bottom_predict)\n",
    "print('Linear with L2 norm R2 score for the bottom testing is ' + str(r2))\n",
    "''' Model.append(\"Classic Regression\")\n",
    "R2.append(r2)\n",
    "Position.append(\"Bottom\") '''\n",
    "Model_name.append(\"L2_regressor\")\n"
   ]
  },
  {
   "cell_type": "code",
   "execution_count": null,
   "id": "38a6826e-4edc-4597-9da2-03339a479204",
   "metadata": {},
   "outputs": [
    {
     "ename": "",
     "evalue": "",
     "output_type": "error",
     "traceback": [
      "\u001b[1;31mRunning cells with 'c:\\Users\\Fondation\\AppData\\Local\\Microsoft\\WindowsApps\\python3.11.exe' requires the ipykernel package.\n",
      "\u001b[1;31mRun the following command to install 'ipykernel' into the Python environment. \n",
      "\u001b[1;31mCommand: 'c:/Users/Fondation/AppData/Local/Microsoft/WindowsApps/python3.11.exe -m pip install ipykernel -U --user --force-reinstall'"
     ]
    }
   ],
   "source": [
    "cl2_compare = pd.DataFrame({\"Real Value\" : Y_test.to_numpy(), \"Estimated Value\": cl2_Y_test_predict})\n",
    "# Plot sepal width as a function of sepal_length across days\n",
    "sns.lmplot(data=cl2_compare,x=\"Real Value\", y=\"Estimated Value\",height=5.5, robust=True)\n",
    "plt.savefig(\"Img/scater_Classic_L2.pdf\")\n",
    "plt.show()"
   ]
  },
  {
   "cell_type": "code",
   "execution_count": null,
   "id": "a60baf01-213e-42dc-9d90-485707c6a81a",
   "metadata": {},
   "outputs": [
    {
     "ename": "",
     "evalue": "",
     "output_type": "error",
     "traceback": [
      "\u001b[1;31mRunning cells with 'c:\\Users\\Fondation\\AppData\\Local\\Microsoft\\WindowsApps\\python3.11.exe' requires the ipykernel package.\n",
      "\u001b[1;31mRun the following command to install 'ipykernel' into the Python environment. \n",
      "\u001b[1;31mCommand: 'c:/Users/Fondation/AppData/Local/Microsoft/WindowsApps/python3.11.exe -m pip install ipykernel -U --user --force-reinstall'"
     ]
    }
   ],
   "source": [
    "D = {\"Coefficient\" : L2_regressor.coef_, \"Feature\": X_train.columns}\n",
    "Coefs = pd.DataFrame(D)\n",
    "# We are trying to get instead the absolute value of the coefficients since a feature might be negatively correlated from the return \n",
    "Coefs[\"Coefficient\"] = Coefs[\"Coefficient\"].apply(lambda x: abs(x))\n",
    "Coefs = Coefs.sort_values(by=['Coefficient'],ascending = False)\n",
    "Coefs[\"Model\"] = \"Classic Regression\"\n",
    "Coefs"
   ]
  },
  {
   "cell_type": "code",
   "execution_count": null,
   "id": "0c2bc166-fe0f-4b8a-ab1f-2a2d175aa584",
   "metadata": {},
   "outputs": [
    {
     "ename": "",
     "evalue": "",
     "output_type": "error",
     "traceback": [
      "\u001b[1;31mRunning cells with 'c:\\Users\\Fondation\\AppData\\Local\\Microsoft\\WindowsApps\\python3.11.exe' requires the ipykernel package.\n",
      "\u001b[1;31mRun the following command to install 'ipykernel' into the Python environment. \n",
      "\u001b[1;31mCommand: 'c:/Users/Fondation/AppData/Local/Microsoft/WindowsApps/python3.11.exe -m pip install ipykernel -U --user --force-reinstall'"
     ]
    }
   ],
   "source": [
    "sns.set_theme(style=\"whitegrid\")\n",
    "# Initialize the matplotlib figure\n",
    "f, ax = plt.subplots(figsize=(15, 8))\n",
    "\n",
    "# Plot the total crashes\n",
    "sns.set_color_codes(\"colorblind\")\n",
    "sns.barplot(x=\"Coefficient\", y=\"Feature\", label = \"Coefficient\", data=Coefs,color=\"b\")\n",
    "\n",
    "# Add a legend and informative axis label\n",
    "ax.legend(ncol=2, loc=\"lower right\", frameon=True)\n",
    "ax.set(xlim=(0, 0.5), ylabel=\"\",\n",
    "       xlabel=\"Importance of different features in the regression.\")\n",
    "sns.despine(left=True, bottom=True)\n",
    "plt.savefig(\"Img/coef_class_regreg.pdf\")\n",
    "plt.show()"
   ]
  },
  {
   "cell_type": "markdown",
   "id": "17442351-82e7-43ab-9006-1514d8b275b6",
   "metadata": {},
   "source": [
    "#### Linear Model with Huber loss"
   ]
  },
  {
   "cell_type": "code",
   "execution_count": null,
   "id": "18167a52-395a-42f1-99f5-86311031fc54",
   "metadata": {},
   "outputs": [
    {
     "ename": "",
     "evalue": "",
     "output_type": "error",
     "traceback": [
      "\u001b[1;31mRunning cells with 'c:\\Users\\Fondation\\AppData\\Local\\Microsoft\\WindowsApps\\python3.11.exe' requires the ipykernel package.\n",
      "\u001b[1;31mRun the following command to install 'ipykernel' into the Python environment. \n",
      "\u001b[1;31mCommand: 'c:/Users/Fondation/AppData/Local/Microsoft/WindowsApps/python3.11.exe -m pip install ipykernel -U --user --force-reinstall'"
     ]
    }
   ],
   "source": [
    "Huber_regress = HuberRegressor(epsilon=1)\n",
    "Huber_regress.fit(X_train_norm, Y_train)"
   ]
  },
  {
   "cell_type": "code",
   "execution_count": null,
   "id": "e6c5f236-a1bc-4f1c-b319-e10583c6466e",
   "metadata": {},
   "outputs": [
    {
     "ename": "",
     "evalue": "",
     "output_type": "error",
     "traceback": [
      "\u001b[1;31mRunning cells with 'c:\\Users\\Fondation\\AppData\\Local\\Microsoft\\WindowsApps\\python3.11.exe' requires the ipykernel package.\n",
      "\u001b[1;31mRun the following command to install 'ipykernel' into the Python environment. \n",
      "\u001b[1;31mCommand: 'c:/Users/Fondation/AppData/Local/Microsoft/WindowsApps/python3.11.exe -m pip install ipykernel -U --user --force-reinstall'"
     ]
    }
   ],
   "source": [
    "# model evaluation for training set\n",
    "Y_train_huber_predict = Huber_regress.predict(X_train)\n",
    "r2 = r2_score(Y_train, Y_train_huber_predict)\n",
    "print ('Linear with Huber loss R2 score for training is ' + str(r2))\n",
    "\n",
    "# Model evaluation for the testing set\n",
    "Y_test_huber_predict = Huber_regress.predict(X_test_norm)\n",
    "r2 = r2_score(Y_test, Y_test_huber_predict)\n",
    "print('Linear with Huber loss R2 score for testing is ' + str(r2))"
   ]
  },
  {
   "cell_type": "markdown",
   "id": "cdcd4b75-b33d-4bb6-baf3-419491ba5a57",
   "metadata": {},
   "source": [
    "#### Cross-validating the Huber Regressor"
   ]
  },
  {
   "cell_type": "code",
   "execution_count": null,
   "id": "facbb602-f850-453c-a5c3-efdeffef8315",
   "metadata": {},
   "outputs": [
    {
     "ename": "",
     "evalue": "",
     "output_type": "error",
     "traceback": [
      "\u001b[1;31mRunning cells with 'c:\\Users\\Fondation\\AppData\\Local\\Microsoft\\WindowsApps\\python3.11.exe' requires the ipykernel package.\n",
      "\u001b[1;31mRun the following command to install 'ipykernel' into the Python environment. \n",
      "\u001b[1;31mCommand: 'c:/Users/Fondation/AppData/Local/Microsoft/WindowsApps/python3.11.exe -m pip install ipykernel -U --user --force-reinstall'"
     ]
    }
   ],
   "source": [
    "huber_model = HuberRegressor()\n",
    "cv_huber = RepeatedKFold(n_splits=10, n_repeats=5, random_state=1)\n",
    "grid_huber = dict()\n",
    "grid_huber[\"epsilon\"] = np.arange(1, 2, 0.1)\n",
    "search_huber = GridSearchCV(huber_model, grid_huber, scoring='neg_mean_absolute_error', cv = cv_huber, n_jobs = -1)\n",
    "hub_cv_model = search_huber.fit(X_val_norm, Y_val)\n",
    "print('Config: %s' % hub_cv_model.best_params_)"
   ]
  },
  {
   "cell_type": "code",
   "execution_count": null,
   "id": "f1b98630-c7c0-48f3-93d8-94e933900c1e",
   "metadata": {},
   "outputs": [
    {
     "ename": "",
     "evalue": "",
     "output_type": "error",
     "traceback": [
      "\u001b[1;31mRunning cells with 'c:\\Users\\Fondation\\AppData\\Local\\Microsoft\\WindowsApps\\python3.11.exe' requires the ipykernel package.\n",
      "\u001b[1;31mRun the following command to install 'ipykernel' into the Python environment. \n",
      "\u001b[1;31mCommand: 'c:/Users/Fondation/AppData/Local/Microsoft/WindowsApps/python3.11.exe -m pip install ipykernel -U --user --force-reinstall'"
     ]
    }
   ],
   "source": [
    "# Evaluation of the cross-validated model on the testing set\n",
    "Y_test_predict = hub_cv_model.predict(X_test_norm)\n",
    "r2 = r2_score(Y_test, Y_test_predict)\n",
    "print('Cross-validated Huber Regressor R2 score for testing is ' + str(r2))"
   ]
  },
  {
   "cell_type": "markdown",
   "id": "60186318-24f8-4763-a8e0-a5604f17baa6",
   "metadata": {},
   "source": [
    "#### Linear Regression Model with the three most relevant features (\"benchmarkWeight\", \"indRelativeReversal\", \"indMom\") and using the Huber Loss"
   ]
  },
  {
   "cell_type": "code",
   "execution_count": null,
   "id": "e9702e45-de2e-4077-ace2-8996bae8e363",
   "metadata": {},
   "outputs": [
    {
     "ename": "",
     "evalue": "",
     "output_type": "error",
     "traceback": [
      "\u001b[1;31mRunning cells with 'c:\\Users\\Fondation\\AppData\\Local\\Microsoft\\WindowsApps\\python3.11.exe' requires the ipykernel package.\n",
      "\u001b[1;31mRun the following command to install 'ipykernel' into the Python environment. \n",
      "\u001b[1;31mCommand: 'c:/Users/Fondation/AppData/Local/Microsoft/WindowsApps/python3.11.exe -m pip install ipykernel -U --user --force-reinstall'"
     ]
    }
   ],
   "source": [
    "LR3_X_train = X_train[[\"benchmarkWeight\", \"indRelativeReversal\", \"indMom\"]]\n",
    "LR3_X_test = X_test[[\"benchmarkWeight\", \"indRelativeReversal\", \"indMom\"]]\n",
    "LR3_X_top = X_top[[\"benchmarkWeight\", \"indRelativeReversal\", \"indMom\"]]\n",
    "LR3_X_bottom = X_bottom[[\"benchmarkWeight\", \"indRelativeReversal\", \"indMom\"]]"
   ]
  },
  {
   "cell_type": "code",
   "execution_count": null,
   "id": "9f81923e-75bb-4a9c-945a-372b10100083",
   "metadata": {},
   "outputs": [
    {
     "ename": "",
     "evalue": "",
     "output_type": "error",
     "traceback": [
      "\u001b[1;31mRunning cells with 'c:\\Users\\Fondation\\AppData\\Local\\Microsoft\\WindowsApps\\python3.11.exe' requires the ipykernel package.\n",
      "\u001b[1;31mRun the following command to install 'ipykernel' into the Python environment. \n",
      "\u001b[1;31mCommand: 'c:/Users/Fondation/AppData/Local/Microsoft/WindowsApps/python3.11.exe -m pip install ipykernel -U --user --force-reinstall'"
     ]
    }
   ],
   "source": [
    "OLS_H = HuberRegressor(epsilon=1.1)\n",
    "OLS_H.fit(LR3_X_train, Y_train)\n",
    "Model_name.append(\"OLS_H\")"
   ]
  },
  {
   "cell_type": "code",
   "execution_count": null,
   "id": "f2d2661b-e221-4d2c-b96b-48cfdb737735",
   "metadata": {},
   "outputs": [
    {
     "ename": "",
     "evalue": "",
     "output_type": "error",
     "traceback": [
      "\u001b[1;31mRunning cells with 'c:\\Users\\Fondation\\AppData\\Local\\Microsoft\\WindowsApps\\python3.11.exe' requires the ipykernel package.\n",
      "\u001b[1;31mRun the following command to install 'ipykernel' into the Python environment. \n",
      "\u001b[1;31mCommand: 'c:/Users/Fondation/AppData/Local/Microsoft/WindowsApps/python3.11.exe -m pip install ipykernel -U --user --force-reinstall'"
     ]
    }
   ],
   "source": [
    "# model evaluation for training set\n",
    "Y_train_predict = OLS_H.predict(LR3_X_train)\n",
    "r2 = r2_score(Y_train, Y_train_predict)\n",
    "print ('OLS-3+H with Huber norm R2 score for training is ' + str(r2))\n",
    "\n",
    "# Model evaluation for the testing set\n",
    "olsh_Y_test_predict = OLS_H.predict(LR3_X_test)\n",
    "r2 = r2_score(Y_test, olsh_Y_test_predict)\n",
    "print('OLS-3+H with Huber norm R2 score for testing is ' + str(r2))\n",
    "Model.append(\"OLS-3+H\")\n",
    "R2.append(r2)\n",
    "Position.append(\"All\")\n",
    "\n",
    "# Model evaluation for the top 1000 market value stocks of the testing set\n",
    "Y_top_predict = OLS_H.predict(LR3_X_top)\n",
    "r2 = r2_score(Y_top, Y_top_predict)\n",
    "print('OLS-3+H with Huber norm R2 score for the top testing is ' + str(r2))\n",
    "Model.append(\"OLS-3+H\")\n",
    "R2.append(r2)\n",
    "Position.append(\"Top\")\n",
    "\n",
    "# Model evaluation for the bottom 1000 market value stocks of the testing set\n",
    "Y_bottom_predict = OLS_H.predict(LR3_X_bottom)\n",
    "r2 = r2_score(Y_bottom, Y_bottom_predict)\n",
    "print('OLS-3+H with Huber norm R2 score for the bottom testing is ' + str(r2))\n",
    "Model.append(\"OLS-3+H\")\n",
    "R2.append(r2)\n",
    "Position.append(\"Bottom\")"
   ]
  },
  {
   "cell_type": "code",
   "execution_count": null,
   "id": "d2736d7d",
   "metadata": {},
   "outputs": [
    {
     "ename": "",
     "evalue": "",
     "output_type": "error",
     "traceback": [
      "\u001b[1;31mRunning cells with 'c:\\Users\\Fondation\\AppData\\Local\\Microsoft\\WindowsApps\\python3.11.exe' requires the ipykernel package.\n",
      "\u001b[1;31mRun the following command to install 'ipykernel' into the Python environment. \n",
      "\u001b[1;31mCommand: 'c:/Users/Fondation/AppData/Local/Microsoft/WindowsApps/python3.11.exe -m pip install ipykernel -U --user --force-reinstall'"
     ]
    }
   ],
   "source": [
    "olsh_compare = pd.DataFrame({\"Real Value\" : Y_test.to_numpy(), \"Estimated Value\": olsh_Y_test_predict})\n",
    "# Plot sepal width as a function of sepal_length across days\n",
    "sns.lmplot(data=olsh_compare,x=\"Real Value\", y=\"Estimated Value\",height=5.5, robust=True)\n",
    "plt.savefig(\"Img/scater_Ols_h.pdf\")\n",
    "plt.show()"
   ]
  },
  {
   "cell_type": "markdown",
   "id": "22d6baf7-0b28-4e97-aa4b-4831a5d5dc05",
   "metadata": {},
   "source": [
    "#### Elastic-Net regression with Huber loss"
   ]
  },
  {
   "cell_type": "code",
   "execution_count": null,
   "id": "e6debac3-fc7b-4948-9b8b-17c6e5ed4084",
   "metadata": {},
   "outputs": [
    {
     "ename": "",
     "evalue": "",
     "output_type": "error",
     "traceback": [
      "\u001b[1;31mRunning cells with 'c:\\Users\\Fondation\\AppData\\Local\\Microsoft\\WindowsApps\\python3.11.exe' requires the ipykernel package.\n",
      "\u001b[1;31mRun the following command to install 'ipykernel' into the Python environment. \n",
      "\u001b[1;31mCommand: 'c:/Users/Fondation/AppData/Local/Microsoft/WindowsApps/python3.11.exe -m pip install ipykernel -U --user --force-reinstall'"
     ]
    }
   ],
   "source": [
    "sec_Elastic = SGDRegressor(loss = \"huber\", penalty=\"elasticnet\", alpha = 0.5, l1_ratio=0.5)\n",
    "sec_Elastic.fit(X_train, Y_train)\n",
    "Y_test_predict_secEl = sec_Elastic.predict(X_test)\n",
    "r2 = r2_score(Y_test, Y_test_predict_secEl)\n",
    "print('Elastic-Net Regressor R2 score for testing with alpha = 0.5 and the rho = 0.5 is ' + str(r2))"
   ]
  },
  {
   "cell_type": "markdown",
   "id": "60410d09-95ef-4b15-89a2-bcff3ce50c0e",
   "metadata": {},
   "source": [
    "#### Cross-validating Elastic-Net"
   ]
  },
  {
   "cell_type": "code",
   "execution_count": null,
   "id": "c37bb133-5395-4c97-9ec2-340ffd3c11a4",
   "metadata": {},
   "outputs": [
    {
     "ename": "",
     "evalue": "",
     "output_type": "error",
     "traceback": [
      "\u001b[1;31mRunning cells with 'c:\\Users\\Fondation\\AppData\\Local\\Microsoft\\WindowsApps\\python3.11.exe' requires the ipykernel package.\n",
      "\u001b[1;31mRun the following command to install 'ipykernel' into the Python environment. \n",
      "\u001b[1;31mCommand: 'c:/Users/Fondation/AppData/Local/Microsoft/WindowsApps/python3.11.exe -m pip install ipykernel -U --user --force-reinstall'"
     ]
    }
   ],
   "source": [
    "# Defining the model\n",
    "Enet_H = SGDRegressor()\n",
    "# Defining the model  evaluation method\n",
    "cv_Enet = RepeatedKFold(n_splits=10, n_repeats=3, random_state=1)\n",
    "# define grid\n",
    "grid = dict()\n",
    "grid[\"loss\"] = [\"huber\"]\n",
    "grid[\"penalty\"] = [\"elasticnet\"]\n",
    "grid['alpha'] = [1e-5, 1e-4, 1e-3, 1e-2, 1e-1, 0.0, 1.0, 10.0, 100.0]\n",
    "grid['l1_ratio'] = np.arange(0, 1, 0.01)\n",
    "# define search\n",
    "search_enet = GridSearchCV(Enet_H, grid, scoring='neg_mean_absolute_error', cv=cv_Enet, n_jobs=-1)\n",
    "# perform the search\n",
    "Enet_H_final = search_enet.fit(X_val, Y_val)\n",
    "# summarize\n",
    "Config_enet = Enet_H_final.best_params_\n",
    "print('Config: %s' % Config_enet)\n",
    "Model_name.append(\"Enet_H_final\")"
   ]
  },
  {
   "cell_type": "code",
   "execution_count": null,
   "id": "79c26ae9-78f6-432e-8476-ef31271cda11",
   "metadata": {},
   "outputs": [
    {
     "ename": "",
     "evalue": "",
     "output_type": "error",
     "traceback": [
      "\u001b[1;31mRunning cells with 'c:\\Users\\Fondation\\AppData\\Local\\Microsoft\\WindowsApps\\python3.11.exe' requires the ipykernel package.\n",
      "\u001b[1;31mRun the following command to install 'ipykernel' into the Python environment. \n",
      "\u001b[1;31mCommand: 'c:/Users/Fondation/AppData/Local/Microsoft/WindowsApps/python3.11.exe -m pip install ipykernel -U --user --force-reinstall'"
     ]
    }
   ],
   "source": [
    "# model evaluation for training set\n",
    "Y_train_predict = Enet_H_final.predict(X_train)\n",
    "r2 = r2_score(Y_train, Y_train_predict)\n",
    "print ('Enet+H with Hubber norm R2 score for training is ' + str(r2))\n",
    "\n",
    "# Model evaluation for the testing set\n",
    "enet_Y_test_predict = Enet_H_final.predict(X_test)\n",
    "r2 = r2_score(Y_test, enet_Y_test_predict)\n",
    "print('Enet+H with Huber norm R2 score for testing is ' + str(r2))\n",
    "Model.append(\"Enet+H\")\n",
    "R2.append(r2)\n",
    "Position.append(\"All\")\n",
    "\n",
    "# Model evaluation for the top 1000 market value stocks of the testing set\n",
    "Y_top_predict = Enet_H_final.predict(X_top)\n",
    "r2 = r2_score(Y_top, Y_top_predict)\n",
    "print('Enet+H with Huber norm R2 score for the top testing is ' + str(r2))\n",
    "Model.append(\"Enet+H\")\n",
    "R2.append(r2)\n",
    "Position.append(\"Top\")\n",
    "\n",
    "# Model evaluation for the bottom 1000 market value stocks of the testing set\n",
    "Y_bottom_predict = Enet_H_final.predict(X_bottom)\n",
    "r2 = r2_score(Y_bottom, Y_bottom_predict)\n",
    "print('Enet+H with Huber norm R2 score for the bottom testing is ' + str(r2))\n",
    "Model.append(\"Enet+H\")\n",
    "R2.append(r2)\n",
    "Position.append(\"Bottom\")"
   ]
  },
  {
   "cell_type": "code",
   "execution_count": null,
   "id": "a7c876fb",
   "metadata": {},
   "outputs": [
    {
     "ename": "",
     "evalue": "",
     "output_type": "error",
     "traceback": [
      "\u001b[1;31mRunning cells with 'c:\\Users\\Fondation\\AppData\\Local\\Microsoft\\WindowsApps\\python3.11.exe' requires the ipykernel package.\n",
      "\u001b[1;31mRun the following command to install 'ipykernel' into the Python environment. \n",
      "\u001b[1;31mCommand: 'c:/Users/Fondation/AppData/Local/Microsoft/WindowsApps/python3.11.exe -m pip install ipykernel -U --user --force-reinstall'"
     ]
    }
   ],
   "source": [
    "enet_compare = pd.DataFrame({\"Real Value\" : Y_test.to_numpy(), \"Estimated Value\": enet_Y_test_predict})\n",
    "# Plot sepal width as a function of sepal_length across days\n",
    "sns.lmplot(data=enet_compare,x=\"Real Value\", y=\"Estimated Value\",height=5.5, robust=True)\n",
    "plt.savefig(\"Img/scater_enet_h.pdf\")\n",
    "plt.show()"
   ]
  },
  {
   "cell_type": "code",
   "execution_count": null,
   "id": "f915510b-d1ec-4048-8709-6772e57bbe19",
   "metadata": {},
   "outputs": [
    {
     "ename": "",
     "evalue": "",
     "output_type": "error",
     "traceback": [
      "\u001b[1;31mRunning cells with 'c:\\Users\\Fondation\\AppData\\Local\\Microsoft\\WindowsApps\\python3.11.exe' requires the ipykernel package.\n",
      "\u001b[1;31mRun the following command to install 'ipykernel' into the Python environment. \n",
      "\u001b[1;31mCommand: 'c:/Users/Fondation/AppData/Local/Microsoft/WindowsApps/python3.11.exe -m pip install ipykernel -U --user --force-reinstall'"
     ]
    }
   ],
   "source": [
    "Enet_H_final2 = SGDRegressor(alpha= Config_enet[\"alpha\"], l1_ratio= Config_enet[\"l1_ratio\"], loss= \"huber\", penalty = 'elasticnet')\n",
    "Enet_H_final2.fit(X_train, Y_train)\n",
    "elast_D = {\"Coefficient\" : Enet_H_final2.coef_, \"Feature\": X_train.columns}\n",
    "new_Coefs = pd.DataFrame(elast_D)\n",
    "# We are trying to get instead the absolute value of the coefficients since a feature might be negatively correlated from the return \n",
    "new_Coefs[\"Coefficient\"] = new_Coefs[\"Coefficient\"].apply(lambda x: abs(x))\n",
    "#new_Coefs = new_Coefs.sort_values(by=['Coefficient'],ascending = False)\n",
    "new_Coefs[\"Model\"] = \"Enet+H\"\n",
    "\n",
    "Coefs = pd.concat([Coefs, new_Coefs], ignore_index = False)\n"
   ]
  },
  {
   "cell_type": "code",
   "execution_count": null,
   "id": "ab6fe45c-d2db-41f9-8f36-4c88b1aedaa6",
   "metadata": {},
   "outputs": [
    {
     "ename": "",
     "evalue": "",
     "output_type": "error",
     "traceback": [
      "\u001b[1;31mRunning cells with 'c:\\Users\\Fondation\\AppData\\Local\\Microsoft\\WindowsApps\\python3.11.exe' requires the ipykernel package.\n",
      "\u001b[1;31mRun the following command to install 'ipykernel' into the Python environment. \n",
      "\u001b[1;31mCommand: 'c:/Users/Fondation/AppData/Local/Microsoft/WindowsApps/python3.11.exe -m pip install ipykernel -U --user --force-reinstall'"
     ]
    }
   ],
   "source": [
    "sns.set_theme(style=\"whitegrid\")\n",
    "# Initialize the matplotlib figure\n",
    "f, ax = plt.subplots(figsize=(15, 8))\n",
    "\n",
    "# Plot the total crashes\n",
    "sns.set_color_codes(\"colorblind\")\n",
    "sns.barplot(x=\"Coefficient\", y=\"Feature\", data=Coefs,palette=\"bright\", hue= \"Model\")\n",
    "\n",
    "# Add a legend and informative axis label\n",
    "ax.legend(ncol=2, loc=\"lower right\", frameon=True)\n",
    "ax.set(xlim=(0, 0.38), ylabel=\"\",\n",
    "       xlabel=\"Comparison of the features' importance\")\n",
    "sns.despine(left=True, bottom=True)\n",
    "plt.savefig(\"Img/coef_compar_class_enet.pdf\")\n",
    "plt.show()"
   ]
  },
  {
   "cell_type": "markdown",
   "id": "86614bd9-f025-4b4b-b607-ef5da93eb29e",
   "metadata": {},
   "source": [
    "### PCR"
   ]
  },
  {
   "cell_type": "code",
   "execution_count": null,
   "id": "0a0994e6-ad7e-432f-a98e-f1b23fdc90fd",
   "metadata": {},
   "outputs": [
    {
     "ename": "",
     "evalue": "",
     "output_type": "error",
     "traceback": [
      "\u001b[1;31mRunning cells with 'c:\\Users\\Fondation\\AppData\\Local\\Microsoft\\WindowsApps\\python3.11.exe' requires the ipykernel package.\n",
      "\u001b[1;31mRun the following command to install 'ipykernel' into the Python environment. \n",
      "\u001b[1;31mCommand: 'c:/Users/Fondation/AppData/Local/Microsoft/WindowsApps/python3.11.exe -m pip install ipykernel -U --user --force-reinstall'"
     ]
    }
   ],
   "source": [
    "PCA_model = PCA(n_components=0.95, svd_solver = 'full')\n",
    "PCA_model.fit(X_train_norm)\n",
    "print(np.sum(PCA_model.explained_variance_ratio_))\n",
    "print(np.shape(PCA_model.components_))\n",
    "PCA_test = PCA_model.transform(X_test_norm)\n",
    "print(np.shape(PCA_test))\n",
    "PCA_train = PCA_model.transform(X_train_norm)\n",
    "PCA_val = PCA_model.transform(X_val_norm)\n",
    "PCA_top = PCA_model.transform(X_top_norm)\n",
    "PCA_bottom = PCA_model.transform(X_bottom_norm)"
   ]
  },
  {
   "cell_type": "code",
   "execution_count": null,
   "id": "3f9fa9f2-6a56-4f6d-a17c-3847b7b90d8d",
   "metadata": {},
   "outputs": [
    {
     "ename": "",
     "evalue": "",
     "output_type": "error",
     "traceback": [
      "\u001b[1;31mRunning cells with 'c:\\Users\\Fondation\\AppData\\Local\\Microsoft\\WindowsApps\\python3.11.exe' requires the ipykernel package.\n",
      "\u001b[1;31mRun the following command to install 'ipykernel' into the Python environment. \n",
      "\u001b[1;31mCommand: 'c:/Users/Fondation/AppData/Local/Microsoft/WindowsApps/python3.11.exe -m pip install ipykernel -U --user --force-reinstall'"
     ]
    }
   ],
   "source": [
    "sec_Elastic = SGDRegressor(loss = \"huber\", penalty=\"elasticnet\", alpha = 0.5, l1_ratio=0.5)\n",
    "sec_Elastic.fit(PCA_train, Y_train)\n",
    "Y_test_predict_secEl = sec_Elastic.predict(PCA_test)\n",
    "r2 = r2_score(Y_test, Y_test_predict_secEl)\n",
    "print('Elastic-Net Regressor R2 score for testing with alpha = 0.5 and the rho = 0.5 is ' + str(r2))"
   ]
  },
  {
   "cell_type": "code",
   "execution_count": null,
   "id": "4b0dafc4-4c32-493e-bcfa-4dfc9480021b",
   "metadata": {},
   "outputs": [
    {
     "ename": "",
     "evalue": "",
     "output_type": "error",
     "traceback": [
      "\u001b[1;31mRunning cells with 'c:\\Users\\Fondation\\AppData\\Local\\Microsoft\\WindowsApps\\python3.11.exe' requires the ipykernel package.\n",
      "\u001b[1;31mRun the following command to install 'ipykernel' into the Python environment. \n",
      "\u001b[1;31mCommand: 'c:/Users/Fondation/AppData/Local/Microsoft/WindowsApps/python3.11.exe -m pip install ipykernel -U --user --force-reinstall'"
     ]
    }
   ],
   "source": [
    "# Defining the model\n",
    "Enet_H = SGDRegressor()\n",
    "# Defining the model  evaluation method\n",
    "cv_Enet = RepeatedKFold(n_splits=10, n_repeats=3, random_state=1)\n",
    "# define grid\n",
    "grid = dict()\n",
    "grid[\"loss\"] = [\"huber\"]\n",
    "grid[\"penalty\"] = [\"elasticnet\"]\n",
    "grid['alpha'] = [1e-5, 1e-4, 1e-3, 1e-2, 1e-1, 0.0, 1.0, 10.0, 100.0]\n",
    "grid['l1_ratio'] = np.arange(0, 1, 0.01)\n",
    "# define search\n",
    "search_enet = GridSearchCV(Enet_H, grid, scoring='neg_mean_absolute_error', cv=cv_Enet, n_jobs=-1)\n",
    "# perform the search\n",
    "Enet_H_final_pca = search_enet.fit(PCA_val, Y_val)\n",
    "# summarize\n",
    "Config_pca = Enet_H_final_pca.best_params_\n",
    "print('Config: %s' % Enet_H_final_pca.best_params_)\n",
    "Model_name.append(\"Enet_H_final_pca\")\n",
    "Model_name.append(\"PCA_model\")"
   ]
  },
  {
   "cell_type": "code",
   "execution_count": null,
   "id": "89e77907-2584-4d77-83b1-996c1b5107b4",
   "metadata": {},
   "outputs": [
    {
     "ename": "",
     "evalue": "",
     "output_type": "error",
     "traceback": [
      "\u001b[1;31mRunning cells with 'c:\\Users\\Fondation\\AppData\\Local\\Microsoft\\WindowsApps\\python3.11.exe' requires the ipykernel package.\n",
      "\u001b[1;31mRun the following command to install 'ipykernel' into the Python environment. \n",
      "\u001b[1;31mCommand: 'c:/Users/Fondation/AppData/Local/Microsoft/WindowsApps/python3.11.exe -m pip install ipykernel -U --user --force-reinstall'"
     ]
    }
   ],
   "source": [
    "# model evaluation for training set\n",
    "Y_train_predict = Enet_H_final_pca.predict(PCA_train)\n",
    "r2 = r2_score(Y_train, Y_train_predict)\n",
    "print ('PCA and Enet+H with Hubber norm R2 score for training is ' + str(r2))\n",
    "\n",
    "# Model evaluation for the testing set\n",
    "pca_Y_test_predict = Enet_H_final_pca.predict(PCA_test)\n",
    "r2 = r2_score(Y_test, pca_Y_test_predict)\n",
    "print('PCA and Enet+H with Huber norm R2 score for testing is ' + str(r2))\n",
    "Model.append(\"PCA\")\n",
    "R2.append(r2)\n",
    "Position.append(\"All\")\n",
    "\n",
    "# Model evaluation for the top 1000 market value stocks of the testing set\n",
    "Y_top_predict = Enet_H_final_pca.predict(PCA_top)\n",
    "r2 = r2_score(Y_top, Y_top_predict)\n",
    "print('PCA and Enet+H with Huber norm R2 score for the top testing is ' + str(r2))\n",
    "Model.append(\"PCA\")\n",
    "R2.append(r2)\n",
    "Position.append(\"Top\")\n",
    "\n",
    "# Model evaluation for the bottom 1000 market value stocks of the testing set\n",
    "Y_bottom_predict = Enet_H_final_pca.predict(PCA_bottom)\n",
    "r2 = r2_score(Y_bottom, Y_bottom_predict)\n",
    "print('PCA and Enet+H with Huber norm R2 score for the bottom testing is ' + str(r2))\n",
    "Model.append(\"PCA\")\n",
    "R2.append(r2)\n",
    "Position.append(\"Bottom\")"
   ]
  },
  {
   "cell_type": "code",
   "execution_count": null,
   "id": "b05551c4",
   "metadata": {},
   "outputs": [
    {
     "ename": "",
     "evalue": "",
     "output_type": "error",
     "traceback": [
      "\u001b[1;31mRunning cells with 'c:\\Users\\Fondation\\AppData\\Local\\Microsoft\\WindowsApps\\python3.11.exe' requires the ipykernel package.\n",
      "\u001b[1;31mRun the following command to install 'ipykernel' into the Python environment. \n",
      "\u001b[1;31mCommand: 'c:/Users/Fondation/AppData/Local/Microsoft/WindowsApps/python3.11.exe -m pip install ipykernel -U --user --force-reinstall'"
     ]
    }
   ],
   "source": [
    "pca_compare = pd.DataFrame({\"Real Value\" : Y_test.to_numpy(), \"Estimated Value\": pca_Y_test_predict})\n",
    "# Plot sepal width as a function of sepal_length across days\n",
    "sns.lmplot(data=pca_compare,x=\"Real Value\", y=\"Estimated Value\",height=5.5, robust=True)\n",
    "plt.savefig(\"Img/scater_pca.pdf\")\n",
    "plt.show()"
   ]
  },
  {
   "cell_type": "markdown",
   "id": "a8651355-60b3-46e9-b730-d14d0bcfe9c0",
   "metadata": {},
   "source": [
    "### PLS"
   ]
  },
  {
   "cell_type": "code",
   "execution_count": null,
   "id": "f0a9e4a9-4d97-4681-bd81-957cc5a00175",
   "metadata": {},
   "outputs": [
    {
     "ename": "",
     "evalue": "",
     "output_type": "error",
     "traceback": [
      "\u001b[1;31mRunning cells with 'c:\\Users\\Fondation\\AppData\\Local\\Microsoft\\WindowsApps\\python3.11.exe' requires the ipykernel package.\n",
      "\u001b[1;31mRun the following command to install 'ipykernel' into the Python environment. \n",
      "\u001b[1;31mCommand: 'c:/Users/Fondation/AppData/Local/Microsoft/WindowsApps/python3.11.exe -m pip install ipykernel -U --user --force-reinstall'"
     ]
    }
   ],
   "source": [
    "PLS_model = PLSRegression(n_components=2)\n",
    "PLS_model.fit(X_train, Y_train)\n",
    "Y_pred = PLS_model.predict(X_test)"
   ]
  },
  {
   "cell_type": "code",
   "execution_count": null,
   "id": "1c46600a-4caa-4b31-9fd8-1acbd701c5b5",
   "metadata": {},
   "outputs": [
    {
     "ename": "",
     "evalue": "",
     "output_type": "error",
     "traceback": [
      "\u001b[1;31mRunning cells with 'c:\\Users\\Fondation\\AppData\\Local\\Microsoft\\WindowsApps\\python3.11.exe' requires the ipykernel package.\n",
      "\u001b[1;31mRun the following command to install 'ipykernel' into the Python environment. \n",
      "\u001b[1;31mCommand: 'c:/Users/Fondation/AppData/Local/Microsoft/WindowsApps/python3.11.exe -m pip install ipykernel -U --user --force-reinstall'"
     ]
    }
   ],
   "source": [
    "scor = r2_score(Y_test, Y_pred)\n",
    "print(\"The PLS R2 score on our testing data without knowing the optimum parameters is \" + str(scor))"
   ]
  },
  {
   "cell_type": "code",
   "execution_count": null,
   "id": "fb5fa96e-cb17-42ec-88de-bf227ea54739",
   "metadata": {},
   "outputs": [
    {
     "ename": "",
     "evalue": "",
     "output_type": "error",
     "traceback": [
      "\u001b[1;31mRunning cells with 'c:\\Users\\Fondation\\AppData\\Local\\Microsoft\\WindowsApps\\python3.11.exe' requires the ipykernel package.\n",
      "\u001b[1;31mRun the following command to install 'ipykernel' into the Python environment. \n",
      "\u001b[1;31mCommand: 'c:/Users/Fondation/AppData/Local/Microsoft/WindowsApps/python3.11.exe -m pip install ipykernel -U --user --force-reinstall'"
     ]
    }
   ],
   "source": [
    "# define model\n",
    "PLS_model = PLSRegression()\n",
    "# define model evaluation method\n",
    "cv_pls = RepeatedKFold(n_splits=10, n_repeats=3, random_state=1)\n",
    "# define grid\n",
    "grid = dict()\n",
    "grid['n_components'] = np.arange(1,20, dtype=int)\n",
    "# define search\n",
    "search = GridSearchCV(PLS_model, grid, scoring='neg_mean_absolute_error', cv=cv_pls, n_jobs=-1)\n",
    "# perform the search\n",
    "PLS_final_model = search.fit(X_val, Y_val)\n",
    "Config_pls = PLS_final_model.best_params_\n",
    "# summarize\n",
    "print('Config: %s' % PLS_final_model.best_params_)\n",
    "Model_name.append(\"PLS_final_model\")"
   ]
  },
  {
   "cell_type": "code",
   "execution_count": null,
   "id": "1180fd3e-92b3-4638-bc69-90581909bea7",
   "metadata": {},
   "outputs": [
    {
     "ename": "",
     "evalue": "",
     "output_type": "error",
     "traceback": [
      "\u001b[1;31mRunning cells with 'c:\\Users\\Fondation\\AppData\\Local\\Microsoft\\WindowsApps\\python3.11.exe' requires the ipykernel package.\n",
      "\u001b[1;31mRun the following command to install 'ipykernel' into the Python environment. \n",
      "\u001b[1;31mCommand: 'c:/Users/Fondation/AppData/Local/Microsoft/WindowsApps/python3.11.exe -m pip install ipykernel -U --user --force-reinstall'"
     ]
    }
   ],
   "source": [
    "# model evaluation for training set\n",
    "Y_train_predict = PLS_final_model.predict(X_train)\n",
    "r2 = r2_score(Y_train, Y_train_predict)\n",
    "print ('PLS R2 score for training is ' + str(r2))\n",
    "\n",
    "# Model evaluation for the testing set\n",
    "pls_Y_test_predict = PLS_final_model.predict(X_test)\n",
    "r2 = r2_score(Y_test, Y_test_predict)\n",
    "print('PLS R2 score for testing is ' + str(r2))\n",
    "Model.append(\"PLS\")\n",
    "R2.append(r2)\n",
    "Position.append(\"All\")\n",
    "\n",
    "# Model evaluation for the top 1000 market value stocks of the testing set\n",
    "Y_top_predict = PLS_final_model.predict(X_top)\n",
    "r2 = r2_score(Y_top, Y_top_predict)\n",
    "print('PLS R2 score for the top testing is ' + str(r2))\n",
    "Model.append(\"PLS\")\n",
    "R2.append(r2)\n",
    "Position.append(\"Top\")\n",
    "\n",
    "# Model evaluation for the bottom 1000 market value stocks of the testing set\n",
    "Y_bottom_predict = PLS_final_model.predict(X_bottom)\n",
    "r2 = r2_score(Y_bottom, Y_bottom_predict)\n",
    "print('PLS R2 score for the bottom testing is ' + str(r2))\n",
    "Model.append(\"PLS\")\n",
    "R2.append(r2)\n",
    "Position.append(\"Bottom\")"
   ]
  },
  {
   "cell_type": "code",
   "execution_count": null,
   "id": "57939c84",
   "metadata": {},
   "outputs": [
    {
     "ename": "",
     "evalue": "",
     "output_type": "error",
     "traceback": [
      "\u001b[1;31mRunning cells with 'c:\\Users\\Fondation\\AppData\\Local\\Microsoft\\WindowsApps\\python3.11.exe' requires the ipykernel package.\n",
      "\u001b[1;31mRun the following command to install 'ipykernel' into the Python environment. \n",
      "\u001b[1;31mCommand: 'c:/Users/Fondation/AppData/Local/Microsoft/WindowsApps/python3.11.exe -m pip install ipykernel -U --user --force-reinstall'"
     ]
    }
   ],
   "source": [
    "pls_compare = pd.DataFrame({\"Real Value\" : Y_test.to_numpy(), \"Estimated Value\": pls_Y_test_predict[:,0]})\n",
    "# Plot sepal width as a function of sepal_length across days\n",
    "sns.lmplot(data=pls_compare,x=\"Real Value\", y=\"Estimated Value\",height=5.5, robust=True)\n",
    "plt.savefig(\"Img/scater_pls.pdf\")\n",
    "plt.show()"
   ]
  },
  {
   "cell_type": "markdown",
   "id": "154f6da6-830f-46a4-b4f9-0e0b80965c5d",
   "metadata": {},
   "source": [
    "### Neural Networks"
   ]
  },
  {
   "cell_type": "markdown",
   "id": "eb210634-f473-44c0-8cc5-f6415385582d",
   "metadata": {},
   "source": [
    "### Neural Networks with 3 layers"
   ]
  },
  {
   "cell_type": "code",
   "execution_count": null,
   "id": "28b2ab5d-055f-427b-8489-c3f00da7eaad",
   "metadata": {},
   "outputs": [
    {
     "ename": "",
     "evalue": "",
     "output_type": "error",
     "traceback": [
      "\u001b[1;31mRunning cells with 'c:\\Users\\Fondation\\AppData\\Local\\Microsoft\\WindowsApps\\python3.11.exe' requires the ipykernel package.\n",
      "\u001b[1;31mRun the following command to install 'ipykernel' into the Python environment. \n",
      "\u001b[1;31mCommand: 'c:/Users/Fondation/AppData/Local/Microsoft/WindowsApps/python3.11.exe -m pip install ipykernel -U --user --force-reinstall'"
     ]
    }
   ],
   "source": [
    "NN3 = Sequential()\n",
    "\n",
    "# première couche cachée avec 32 neurones et une fonction d'activation ReLU\n",
    "NN3.add(Dense(41, activation='relu', input_dim=40))\n",
    "\n",
    "# deuxième couche cachée avec 16 neurones et une fonction d'activation ReLU\n",
    "NN3.add(Dense(16, activation='relu'))\n",
    "\n",
    "# Troisième couche cachée avec 8 neurones et une fonction d'activation ReLU\n",
    "NN3.add(Dense(8, activation='relu'))\n",
    "\n",
    "# couche de sortie avec 1 neurone et une fonction d'activation linéaire\n",
    "NN3.add(Dense(1, activation='linear'))\n",
    "\n",
    "# compilation du modèle avec l'optimiseur Adam et la fonction de perte MSE\n",
    "NN3.compile(optimizer='adam', loss='mse')\n",
    "NN3.fit(x=X_train, y=Y_train, batch_size=15, epochs=30, shuffle=True, validation_data=(X_val, Y_val))\n",
    "Model_name.append(\"NN3\")"
   ]
  },
  {
   "cell_type": "code",
   "execution_count": null,
   "id": "f3acd414-b3bb-4b17-9743-75d06fccad3a",
   "metadata": {},
   "outputs": [
    {
     "ename": "",
     "evalue": "",
     "output_type": "error",
     "traceback": [
      "\u001b[1;31mRunning cells with 'c:\\Users\\Fondation\\AppData\\Local\\Microsoft\\WindowsApps\\python3.11.exe' requires the ipykernel package.\n",
      "\u001b[1;31mRun the following command to install 'ipykernel' into the Python environment. \n",
      "\u001b[1;31mCommand: 'c:/Users/Fondation/AppData/Local/Microsoft/WindowsApps/python3.11.exe -m pip install ipykernel -U --user --force-reinstall'"
     ]
    }
   ],
   "source": [
    "# model evaluation for training set\n",
    "Y_train_predict = NN3.predict(X_train)\n",
    "r2 = r2_score(Y_train, Y_train_predict)\n",
    "print ('NN3 R2 score for training is ' + str(r2))\n",
    "\n",
    "# Model evaluation for the testing set\n",
    "nn3_Y_test_predict = NN3.predict(X_test)\n",
    "r2 = r2_score(Y_test, nn3_Y_test_predict)\n",
    "print('NN3 R2 score for testing is ' + str(r2))\n",
    "Model.append(\"NN3\")\n",
    "R2.append(r2)\n",
    "Position.append(\"All\")\n",
    "\n",
    "# Model evaluation for the top 1000 market value stocks of the testing set\n",
    "Y_top_predict = NN3.predict(X_top)\n",
    "r2 = r2_score(Y_top, Y_top_predict)\n",
    "print('NN3 R2 score for the top testing is ' + str(r2))\n",
    "Model.append(\"NN3\")\n",
    "R2.append(r2)\n",
    "Position.append(\"Top\")\n",
    "\n",
    "# Model evaluation for the bottom 1000 market value stocks of the testing set\n",
    "Y_bottom_predict = NN3.predict(X_bottom)\n",
    "r2 = r2_score(Y_bottom, Y_bottom_predict)\n",
    "print('NN3 R2 score for the bottom testing is ' + str(r2))\n",
    "Model.append(\"NN3\")\n",
    "R2.append(r2)\n",
    "Position.append(\"Bottom\")"
   ]
  },
  {
   "cell_type": "code",
   "execution_count": null,
   "id": "23978f46",
   "metadata": {},
   "outputs": [
    {
     "ename": "",
     "evalue": "",
     "output_type": "error",
     "traceback": [
      "\u001b[1;31mRunning cells with 'c:\\Users\\Fondation\\AppData\\Local\\Microsoft\\WindowsApps\\python3.11.exe' requires the ipykernel package.\n",
      "\u001b[1;31mRun the following command to install 'ipykernel' into the Python environment. \n",
      "\u001b[1;31mCommand: 'c:/Users/Fondation/AppData/Local/Microsoft/WindowsApps/python3.11.exe -m pip install ipykernel -U --user --force-reinstall'"
     ]
    }
   ],
   "source": [
    "nn3_compare = pd.DataFrame({\"Real Value\" : Y_test.to_numpy(), \"Estimated Value\": nn3_Y_test_predict[:, 0]})\n",
    "# Plot sepal width as a function of sepal_length across days\n",
    "sns.lmplot(data=nn3_compare,x=\"Real Value\", y=\"Estimated Value\",height=5.5, robust=True)\n",
    "plt.savefig(\"Img/scater_nn3.pdf\")\n",
    "plt.show()"
   ]
  },
  {
   "cell_type": "markdown",
   "id": "98622403-39bf-4509-8f11-0b67ee5ec65e",
   "metadata": {},
   "source": [
    "### Neural Networks with 4 layers"
   ]
  },
  {
   "cell_type": "code",
   "execution_count": null,
   "id": "cf7110f1-e771-4d7e-ace2-1da21ba2a73d",
   "metadata": {},
   "outputs": [
    {
     "ename": "",
     "evalue": "",
     "output_type": "error",
     "traceback": [
      "\u001b[1;31mRunning cells with 'c:\\Users\\Fondation\\AppData\\Local\\Microsoft\\WindowsApps\\python3.11.exe' requires the ipykernel package.\n",
      "\u001b[1;31mRun the following command to install 'ipykernel' into the Python environment. \n",
      "\u001b[1;31mCommand: 'c:/Users/Fondation/AppData/Local/Microsoft/WindowsApps/python3.11.exe -m pip install ipykernel -U --user --force-reinstall'"
     ]
    }
   ],
   "source": [
    "NN4 = Sequential()\n",
    "\n",
    "# Première couche cachée avec 32 neurones et une fonction d'activation ReLU\n",
    "NN4.add(Dense(32, activation='relu', input_dim=40))\n",
    "\n",
    "# Deuxième couche cachée avec 16 neurones et une fonction d'activation ReLU\n",
    "NN4.add(Dense(16, activation='relu'))\n",
    "\n",
    "# Troisième couche cachée avec 8 neurones et une fonction d'activation ReLU\n",
    "NN4.add(Dense(8, activation='relu'))\n",
    "\n",
    "# Quatrième couche cachée avec 4 neurones et une fonction d'activation ReLU\n",
    "NN4.add(Dense(4, activation='relu'))\n",
    "\n",
    "# couche de sortie avec 1 neurone et une fonction d'activation linéaire\n",
    "NN4.add(Dense(1, activation='linear'))\n",
    "\n",
    "# compilation du modèle avec l'optimiseur Adam et la fonction de perte MSE\n",
    "NN4.compile(optimizer='adam', loss='mse')\n",
    "NN4.fit(x=X_train, y=Y_train, batch_size=15, epochs=30, shuffle=True, validation_data=(X_val, Y_val))\n",
    "Model_name.append(\"NN4\")"
   ]
  },
  {
   "cell_type": "code",
   "execution_count": null,
   "id": "5e12a2f4-addd-4218-9d48-4e44b431bc23",
   "metadata": {},
   "outputs": [
    {
     "ename": "",
     "evalue": "",
     "output_type": "error",
     "traceback": [
      "\u001b[1;31mRunning cells with 'c:\\Users\\Fondation\\AppData\\Local\\Microsoft\\WindowsApps\\python3.11.exe' requires the ipykernel package.\n",
      "\u001b[1;31mRun the following command to install 'ipykernel' into the Python environment. \n",
      "\u001b[1;31mCommand: 'c:/Users/Fondation/AppData/Local/Microsoft/WindowsApps/python3.11.exe -m pip install ipykernel -U --user --force-reinstall'"
     ]
    }
   ],
   "source": [
    "# model evaluation for training set\n",
    "Y_train_predict = NN4.predict(X_train)\n",
    "r2 = r2_score(Y_train, Y_train_predict)\n",
    "print ('NN4 R2 score for training is ' + str(r2))\n",
    "\n",
    "# Model evaluation for the testing set\n",
    "nn4_Y_test_predict = NN4.predict(X_test)\n",
    "r2 = r2_score(Y_test, Y_test_predict)\n",
    "print('NN4 R2 score for testing is ' + str(r2))\n",
    "Model.append(\"NN4\")\n",
    "R2.append(r2)\n",
    "Position.append(\"All\")\n",
    "\n",
    "# Model evaluation for the top 1000 market value stocks of the testing set\n",
    "Y_top_predict = NN4.predict(X_top)\n",
    "r2 = r2_score(Y_top, Y_top_predict)\n",
    "print('NN4 R2 score for the top testing is ' + str(r2))\n",
    "Model.append(\"NN4\")\n",
    "R2.append(r2)\n",
    "Position.append(\"Top\")\n",
    "\n",
    "# Model evaluation for the bottom 1000 market value stocks of the testing set\n",
    "Y_bottom_predict = NN4.predict(X_bottom)\n",
    "r2 = r2_score(Y_bottom, Y_bottom_predict)\n",
    "print('NN4 R2 score for the bottom testing is ' + str(r2))\n",
    "Model.append(\"NN4\")\n",
    "R2.append(r2)\n",
    "Position.append(\"Bottom\")"
   ]
  },
  {
   "cell_type": "code",
   "execution_count": null,
   "id": "069229fe",
   "metadata": {},
   "outputs": [
    {
     "ename": "",
     "evalue": "",
     "output_type": "error",
     "traceback": [
      "\u001b[1;31mRunning cells with 'c:\\Users\\Fondation\\AppData\\Local\\Microsoft\\WindowsApps\\python3.11.exe' requires the ipykernel package.\n",
      "\u001b[1;31mRun the following command to install 'ipykernel' into the Python environment. \n",
      "\u001b[1;31mCommand: 'c:/Users/Fondation/AppData/Local/Microsoft/WindowsApps/python3.11.exe -m pip install ipykernel -U --user --force-reinstall'"
     ]
    }
   ],
   "source": [
    "nn4_compare = pd.DataFrame({\"Real Value\" : Y_test.to_numpy(), \"Estimated Value\": nn4_Y_test_predict[:,0]})\n",
    "# Plot sepal width as a function of sepal_length across days\n",
    "sns.lmplot(data=nn4_compare,x=\"Real Value\", y=\"Estimated Value\",height=5.5, robust=True)\n",
    "plt.savefig(\"Img/scater_nn4.pdf\")\n",
    "plt.show()"
   ]
  },
  {
   "cell_type": "markdown",
   "id": "d79e7e6b-7a85-4cc9-9f92-be300c3e5271",
   "metadata": {},
   "source": [
    "### Neural Networks with 5 layers"
   ]
  },
  {
   "cell_type": "code",
   "execution_count": null,
   "id": "ca0ca591-703a-4d34-9641-8b0cd98c558f",
   "metadata": {},
   "outputs": [
    {
     "ename": "",
     "evalue": "",
     "output_type": "error",
     "traceback": [
      "\u001b[1;31mRunning cells with 'c:\\Users\\Fondation\\AppData\\Local\\Microsoft\\WindowsApps\\python3.11.exe' requires the ipykernel package.\n",
      "\u001b[1;31mRun the following command to install 'ipykernel' into the Python environment. \n",
      "\u001b[1;31mCommand: 'c:/Users/Fondation/AppData/Local/Microsoft/WindowsApps/python3.11.exe -m pip install ipykernel -U --user --force-reinstall'"
     ]
    }
   ],
   "source": [
    "NN5 = Sequential()\n",
    "\n",
    "# Première couche cachée avec 64 neurones et une fonction d'activation ReLU\n",
    "NN5.add(Dense(40, activation='relu', input_dim=40))\n",
    "\n",
    "# Deuxième couche cachée avec 16 neurones et une fonction d'activation ReLU\n",
    "NN5.add(Dense(16, activation='relu'))\n",
    "\n",
    "# Troisième couche cachée avec 8 neurones et une fonction d'activation ReLU\n",
    "NN5.add(Dense(8, activation='relu'))\n",
    "\n",
    "# Quatrième couche cachée avec 4 neurones et une fonction d'activation ReLU\n",
    "NN5.add(Dense(4, activation='relu'))\n",
    "\n",
    "# Cinquième couche cachée avec 2 neurones et une fonction d'activation ReLU\n",
    "NN5.add(Dense(2, activation='relu'))\n",
    "\n",
    "# couche de sortie avec 1 neurone et une fonction d'activation linéaire\n",
    "NN5.add(Dense(1, activation='linear'))\n",
    "\n",
    "# compilation du modèle avec l'optimiseur Adam et la fonction de perte MSE\n",
    "NN5.compile(optimizer='adam', loss='mse')\n",
    "NN5.fit(x=X_train, y=Y_train, batch_size=15, epochs=30, shuffle=True, validation_data= (X_val, Y_val))\n",
    "Model_name.append(\"NN5\")"
   ]
  },
  {
   "cell_type": "code",
   "execution_count": null,
   "id": "665e1eeb-c45e-4af1-a55b-ae628bd2a80e",
   "metadata": {},
   "outputs": [
    {
     "ename": "",
     "evalue": "",
     "output_type": "error",
     "traceback": [
      "\u001b[1;31mRunning cells with 'c:\\Users\\Fondation\\AppData\\Local\\Microsoft\\WindowsApps\\python3.11.exe' requires the ipykernel package.\n",
      "\u001b[1;31mRun the following command to install 'ipykernel' into the Python environment. \n",
      "\u001b[1;31mCommand: 'c:/Users/Fondation/AppData/Local/Microsoft/WindowsApps/python3.11.exe -m pip install ipykernel -U --user --force-reinstall'"
     ]
    }
   ],
   "source": [
    "# model evaluation for training set\n",
    "Y_train_predict = NN5.predict(X_train)\n",
    "r2 = r2_score(Y_train, Y_train_predict)\n",
    "print ('NN5 R2 score for training is ' + str(r2))\n",
    "\n",
    "# Model evaluation for the testing set\n",
    "nn5_Y_test_predict = NN5.predict(X_test)\n",
    "r2 = r2_score(Y_test, nn5_Y_test_predict)\n",
    "print('NN5 R2 score for testing is ' + str(r2))\n",
    "Model.append(\"NN5\")\n",
    "R2.append(r2)\n",
    "Position.append(\"All\")\n",
    "\n",
    "# Model evaluation for the top 1000 market value stocks of the testing set\n",
    "Y_top_predict = NN5.predict(X_top)\n",
    "r2 = r2_score(Y_top, Y_top_predict)\n",
    "print('NN5 R2 score for the top testing is ' + str(r2))\n",
    "Model.append(\"NN5\")\n",
    "R2.append(r2)\n",
    "Position.append(\"Top\")\n",
    "\n",
    "# Model evaluation for the bottom 1000 market value stocks of the testing set\n",
    "Y_bottom_predict = NN5.predict(X_bottom)\n",
    "r2 = r2_score(Y_bottom, Y_bottom_predict)\n",
    "print('NN5 R2 score for the bottom testing is ' + str(r2))\n",
    "Model.append(\"NN5\")\n",
    "R2.append(r2)\n",
    "Position.append(\"Bottom\")"
   ]
  },
  {
   "cell_type": "code",
   "execution_count": null,
   "id": "c2c0b5a1",
   "metadata": {},
   "outputs": [
    {
     "ename": "",
     "evalue": "",
     "output_type": "error",
     "traceback": [
      "\u001b[1;31mRunning cells with 'c:\\Users\\Fondation\\AppData\\Local\\Microsoft\\WindowsApps\\python3.11.exe' requires the ipykernel package.\n",
      "\u001b[1;31mRun the following command to install 'ipykernel' into the Python environment. \n",
      "\u001b[1;31mCommand: 'c:/Users/Fondation/AppData/Local/Microsoft/WindowsApps/python3.11.exe -m pip install ipykernel -U --user --force-reinstall'"
     ]
    }
   ],
   "source": [
    "nn5_compare = pd.DataFrame({\"Real Value\" : Y_test.to_numpy(), \"Estimated Value\": nn5_Y_test_predict[:, 0]})\n",
    "# Plot sepal width as a function of sepal_length across days\n",
    "sns.lmplot(data=nn5_compare,x=\"Real Value\", y=\"Estimated Value\",height=5.5, robust=True)\n",
    "plt.savefig(\"Img/scater_nn5.pdf\")\n",
    "plt.show()"
   ]
  },
  {
   "cell_type": "markdown",
   "id": "e0029c09-4804-44b7-ba37-fc5cc51e3173",
   "metadata": {},
   "source": [
    "### Random Forest"
   ]
  },
  {
   "attachments": {},
   "cell_type": "markdown",
   "id": "6cf7fffd",
   "metadata": {},
   "source": [
    "##### Getting the best parameters of our radom forest"
   ]
  },
  {
   "cell_type": "code",
   "execution_count": null,
   "id": "bc4b5da9",
   "metadata": {},
   "outputs": [
    {
     "ename": "",
     "evalue": "",
     "output_type": "error",
     "traceback": [
      "\u001b[1;31mRunning cells with 'c:\\Users\\Fondation\\AppData\\Local\\Microsoft\\WindowsApps\\python3.11.exe' requires the ipykernel package.\n",
      "\u001b[1;31mRun the following command to install 'ipykernel' into the Python environment. \n",
      "\u001b[1;31mCommand: 'c:/Users/Fondation/AppData/Local/Microsoft/WindowsApps/python3.11.exe -m pip install ipykernel -U --user --force-reinstall'"
     ]
    }
   ],
   "source": [
    "''' # Number of trees in random forest\n",
    "n_estimators = [int(x) for x in np.linspace(start = 200, stop = 2000, num = 10)]\n",
    "# Number of features to consider at every split\n",
    "max_features = ['auto', 'sqrt']\n",
    "# Maximum number of levels in tree\n",
    "max_depth = [int(x) for x in np.linspace(10, 110, num = 11)]\n",
    "max_depth.append(None)\n",
    "# Minimum number of samples required to split a node\n",
    "min_samples_split = [2, 5, 10, 20, 40, 50]\n",
    "# Minimum number of samples required at each leaf node\n",
    "min_samples_leaf = [5, 10, 15, 25, 35, 40]\n",
    "# Create the random grid\n",
    "random_grid = {'n_estimators': n_estimators,\n",
    "               'max_features': max_features,\n",
    "               'max_depth': max_depth,\n",
    "               'min_samples_split': min_samples_split,\n",
    "               'min_samples_leaf': min_samples_leaf,}\n",
    "rf = RandomForestRegressor()\n",
    "# Random search of parameters, using 3 fold cross validation, \n",
    "# search across 100 different combinations, and use all available cores\n",
    "rf_random = RandomizedSearchCV(estimator = rf, param_distributions = random_grid, n_iter = 100, cv = 3, verbose=2, random_state=42, n_jobs = -1)\n",
    "# Fit the random search model\n",
    "rf_random.fit(X_train, Y_train) '''"
   ]
  },
  {
   "cell_type": "code",
   "execution_count": null,
   "id": "2f6f11aa-ecfe-457c-a2ef-7c6a93342806",
   "metadata": {},
   "outputs": [
    {
     "ename": "",
     "evalue": "",
     "output_type": "error",
     "traceback": [
      "\u001b[1;31mRunning cells with 'c:\\Users\\Fondation\\AppData\\Local\\Microsoft\\WindowsApps\\python3.11.exe' requires the ipykernel package.\n",
      "\u001b[1;31mRun the following command to install 'ipykernel' into the Python environment. \n",
      "\u001b[1;31mCommand: 'c:/Users/Fondation/AppData/Local/Microsoft/WindowsApps/python3.11.exe -m pip install ipykernel -U --user --force-reinstall'"
     ]
    }
   ],
   "source": [
    "# instance of random forest regressor\n",
    "RF = RandomForestRegressor(n_estimators=500, random_state=42, max_depth = 25, min_samples_leaf=35, max_features=\"sqrt\",min_samples_split = 50)\n",
    "\n",
    "# Fit the random forest regressor to the training data\n",
    "RF.fit(X_train, Y_train)\n",
    "Model_name.append(\"RF\")"
   ]
  },
  {
   "cell_type": "code",
   "execution_count": null,
   "id": "267a4c26-5a3d-469d-9629-ea3cc47a1acc",
   "metadata": {},
   "outputs": [
    {
     "ename": "",
     "evalue": "",
     "output_type": "error",
     "traceback": [
      "\u001b[1;31mRunning cells with 'c:\\Users\\Fondation\\AppData\\Local\\Microsoft\\WindowsApps\\python3.11.exe' requires the ipykernel package.\n",
      "\u001b[1;31mRun the following command to install 'ipykernel' into the Python environment. \n",
      "\u001b[1;31mCommand: 'c:/Users/Fondation/AppData/Local/Microsoft/WindowsApps/python3.11.exe -m pip install ipykernel -U --user --force-reinstall'"
     ]
    }
   ],
   "source": [
    "# model evaluation for training set\n",
    "Y_train_predict = RF.predict(X_train)\n",
    "r2 = r2_score(Y_train, Y_train_predict)\n",
    "print ('RF R2 score for training is ' + str(r2))\n",
    "\n",
    "# Model evaluation for the testing set\n",
    "rf_Y_test_predict = RF.predict(X_test)\n",
    "r2 = r2_score(Y_test, rf_Y_test_predict)\n",
    "print('RF R2 score for testing is ' + str(r2))\n",
    "Model.append(\"RF\")\n",
    "R2.append(r2)\n",
    "Position.append(\"All\")\n",
    "\n",
    "# Model evaluation for the top 1000 market value stocks of the testing set\n",
    "Y_top_predict = RF.predict(X_top)\n",
    "r2 = r2_score(Y_top, Y_top_predict)\n",
    "print('RF R2 score for the top testing is ' + str(r2))\n",
    "Model.append(\"RF\")\n",
    "R2.append(r2)\n",
    "Position.append(\"Top\")\n",
    "\n",
    "# Model evaluation for the bottom 1000 market value stocks of the testing set\n",
    "Y_bottom_predict = RF.predict(X_bottom)\n",
    "r2 = r2_score(Y_bottom, Y_bottom_predict)\n",
    "print('RF R2 score for the bottom testing is ' + str(r2))\n",
    "Model.append(\"RF\")\n",
    "R2.append(r2)\n",
    "Position.append(\"Bottom\")"
   ]
  },
  {
   "cell_type": "code",
   "execution_count": null,
   "id": "2a2a8adb",
   "metadata": {},
   "outputs": [
    {
     "ename": "",
     "evalue": "",
     "output_type": "error",
     "traceback": [
      "\u001b[1;31mRunning cells with 'c:\\Users\\Fondation\\AppData\\Local\\Microsoft\\WindowsApps\\python3.11.exe' requires the ipykernel package.\n",
      "\u001b[1;31mRun the following command to install 'ipykernel' into the Python environment. \n",
      "\u001b[1;31mCommand: 'c:/Users/Fondation/AppData/Local/Microsoft/WindowsApps/python3.11.exe -m pip install ipykernel -U --user --force-reinstall'"
     ]
    }
   ],
   "source": [
    "rf_compare = pd.DataFrame({\"Real Value\" : Y_test.to_numpy(), \"Estimated Value\": rf_Y_test_predict})\n",
    "# Plot sepal width as a function of sepal_length across days\n",
    "sns.lmplot(data=rf_compare,x=\"Real Value\", y=\"Estimated Value\",height=5.5, robust=True)\n",
    "plt.savefig(\"Img/scater_rf.pdf\")\n",
    "plt.show()"
   ]
  },
  {
   "cell_type": "markdown",
   "id": "33c2b075-57f5-4b9c-b74a-955891101968",
   "metadata": {},
   "source": [
    "### Gradient Boosting Regression\n"
   ]
  },
  {
   "attachments": {},
   "cell_type": "markdown",
   "id": "dc2e2a02",
   "metadata": {},
   "source": [
    "##### Getting the best parameters of our Gradient Bossting Regression model"
   ]
  },
  {
   "cell_type": "code",
   "execution_count": null,
   "id": "b52762f7",
   "metadata": {},
   "outputs": [
    {
     "ename": "",
     "evalue": "",
     "output_type": "error",
     "traceback": [
      "\u001b[1;31mRunning cells with 'c:\\Users\\Fondation\\AppData\\Local\\Microsoft\\WindowsApps\\python3.11.exe' requires the ipykernel package.\n",
      "\u001b[1;31mRun the following command to install 'ipykernel' into the Python environment. \n",
      "\u001b[1;31mCommand: 'c:/Users/Fondation/AppData/Local/Microsoft/WindowsApps/python3.11.exe -m pip install ipykernel -U --user --force-reinstall'"
     ]
    }
   ],
   "source": [
    "''' # Number of trees in random forest\n",
    "n_estimators = [int(x) for x in np.linspace(start = 200, stop = 2000, num = 10)]\n",
    "# Number of features to consider at every split\n",
    "max_features = ['auto', 'sqrt']\n",
    "# Maximum number of levels in tree\n",
    "max_depth = [int(x) for x in np.linspace(10, 110, num = 11)]\n",
    "max_depth.append(None)\n",
    "# Minimum number of samples required to split a node\n",
    "min_samples_split = [2, 5, 10, 20, 40, 50]\n",
    "# Minimum number of samples required at each leaf node\n",
    "min_samples_leaf = [5, 10, 15, 25, 35, 40]\n",
    "# Create the random grid\n",
    "random_grid = {'n_estimators': n_estimators,\n",
    "               'max_features': max_features,\n",
    "               'max_depth': max_depth,\n",
    "               'min_samples_split': min_samples_split,\n",
    "               'min_samples_leaf': min_samples_leaf,}\n",
    "gbr = GradientBoostingRegressor()\n",
    "# Random search of parameters, using 3 fold cross validation, \n",
    "# search across 100 different combinations, and use all available cores\n",
    "rf_random = RandomizedSearchCV(estimator = gbr, param_distributions = random_grid, n_iter = 100, cv = 3, verbose=2, random_state=42, n_jobs = -1)\n",
    "# Fit the random search model\n",
    "rf_random.fit(X_train, Y_train) '''"
   ]
  },
  {
   "cell_type": "code",
   "execution_count": null,
   "id": "f532965f-0261-4d72-9a45-87a7a5d4da8a",
   "metadata": {},
   "outputs": [
    {
     "ename": "",
     "evalue": "",
     "output_type": "error",
     "traceback": [
      "\u001b[1;31mRunning cells with 'c:\\Users\\Fondation\\AppData\\Local\\Microsoft\\WindowsApps\\python3.11.exe' requires the ipykernel package.\n",
      "\u001b[1;31mRun the following command to install 'ipykernel' into the Python environment. \n",
      "\u001b[1;31mCommand: 'c:/Users/Fondation/AppData/Local/Microsoft/WindowsApps/python3.11.exe -m pip install ipykernel -U --user --force-reinstall'"
     ]
    }
   ],
   "source": [
    "# instance of GradientBoostingRegressor and fit the model\n",
    "GBR = GradientBoostingRegressor(n_estimators=15, random_state=42, max_depth = 90, min_samples_leaf=20, max_features=\"sqrt\",min_samples_split = 10)\n",
    "GBR.fit(X_train, Y_train)\n",
    "Model_name.append(\"GBR\")"
   ]
  },
  {
   "cell_type": "code",
   "execution_count": null,
   "id": "63889303",
   "metadata": {},
   "outputs": [
    {
     "ename": "",
     "evalue": "",
     "output_type": "error",
     "traceback": [
      "\u001b[1;31mRunning cells with 'c:\\Users\\Fondation\\AppData\\Local\\Microsoft\\WindowsApps\\python3.11.exe' requires the ipykernel package.\n",
      "\u001b[1;31mRun the following command to install 'ipykernel' into the Python environment. \n",
      "\u001b[1;31mCommand: 'c:/Users/Fondation/AppData/Local/Microsoft/WindowsApps/python3.11.exe -m pip install ipykernel -U --user --force-reinstall'"
     ]
    }
   ],
   "source": [
    "# model evaluation for training set\n",
    "Y_train_predict = GBR.predict(X_train)\n",
    "r2 = r2_score(Y_train, Y_train_predict)\n",
    "print ('GBR R2 score for training is ' + str(r2))\n",
    "\n",
    "# Model evaluation for the testing set\n",
    "gbr_Y_test_predict = GBR.predict(X_test)\n",
    "r2 = r2_score(Y_test, gbr_Y_test_predict)\n",
    "print('GBR R2 score for testing is ' + str(r2))\n",
    "Model.append(\"GBR\")\n",
    "R2.append(r2)\n",
    "Position.append(\"All\")\n",
    "\n",
    "# Model evaluation for the top 1000 market value stocks of the testing set\n",
    "Y_top_predict = GBR.predict(X_top)\n",
    "r2 = r2_score(Y_top, Y_top_predict)\n",
    "print('GBR R2 score for the top testing is ' + str(r2))\n",
    "Model.append(\"GBR\")\n",
    "R2.append(r2)\n",
    "Position.append(\"Top\")\n",
    "\n",
    "# Model evaluation for the bottom 1000 market value stocks of the testing set\n",
    "Y_bottom_predict = GBR.predict(X_bottom)\n",
    "r2 = r2_score(Y_bottom, Y_bottom_predict)\n",
    "print('GBR R2 score for the bottom testing is ' + str(r2))\n",
    "Model.append(\"GBR\")\n",
    "R2.append(r2)\n",
    "Position.append(\"Bottom\")"
   ]
  },
  {
   "cell_type": "code",
   "execution_count": null,
   "id": "bffc2466",
   "metadata": {},
   "outputs": [
    {
     "ename": "",
     "evalue": "",
     "output_type": "error",
     "traceback": [
      "\u001b[1;31mRunning cells with 'c:\\Users\\Fondation\\AppData\\Local\\Microsoft\\WindowsApps\\python3.11.exe' requires the ipykernel package.\n",
      "\u001b[1;31mRun the following command to install 'ipykernel' into the Python environment. \n",
      "\u001b[1;31mCommand: 'c:/Users/Fondation/AppData/Local/Microsoft/WindowsApps/python3.11.exe -m pip install ipykernel -U --user --force-reinstall'"
     ]
    }
   ],
   "source": [
    "gbr_compare = pd.DataFrame({\"Real Value\" : Y_test.to_numpy(), \"Estimated Value\": gbr_Y_test_predict})\n",
    "# Plot sepal width as a function of sepal_length across days\n",
    "sns.lmplot(data=gbr_compare,x=\"Real Value\", y=\"Estimated Value\",height=5.5, robust=True)\n",
    "plt.savefig(\"Img/scater_gbr.pdf\")\n",
    "plt.show()"
   ]
  },
  {
   "cell_type": "markdown",
   "id": "42837f56-f502-4133-950e-84a75f425962",
   "metadata": {},
   "source": [
    "### Comparing the overall results of all the methods"
   ]
  },
  {
   "cell_type": "code",
   "execution_count": null,
   "id": "a32a3302-4962-4c7c-ac0b-339b6ac57677",
   "metadata": {},
   "outputs": [
    {
     "ename": "",
     "evalue": "",
     "output_type": "error",
     "traceback": [
      "\u001b[1;31mRunning cells with 'c:\\Users\\Fondation\\AppData\\Local\\Microsoft\\WindowsApps\\python3.11.exe' requires the ipykernel package.\n",
      "\u001b[1;31mRun the following command to install 'ipykernel' into the Python environment. \n",
      "\u001b[1;31mCommand: 'c:/Users/Fondation/AppData/Local/Microsoft/WindowsApps/python3.11.exe -m pip install ipykernel -U --user --force-reinstall'"
     ]
    }
   ],
   "source": [
    "Results = dict()\n",
    "Results[\"Model\"] = Model\n",
    "Results[\"R2\"] = R2\n",
    "Results[\"Position\"] = Position\n",
    "Results = pd.DataFrame(Results)\n",
    "Results[\"Type\"] = \"Without Expanding Window\""
   ]
  },
  {
   "cell_type": "code",
   "execution_count": null,
   "id": "126e860b-3950-4307-b64f-f21ac270618a",
   "metadata": {},
   "outputs": [
    {
     "ename": "",
     "evalue": "",
     "output_type": "error",
     "traceback": [
      "\u001b[1;31mRunning cells with 'c:\\Users\\Fondation\\AppData\\Local\\Microsoft\\WindowsApps\\python3.11.exe' requires the ipykernel package.\n",
      "\u001b[1;31mRun the following command to install 'ipykernel' into the Python environment. \n",
      "\u001b[1;31mCommand: 'c:/Users/Fondation/AppData/Local/Microsoft/WindowsApps/python3.11.exe -m pip install ipykernel -U --user --force-reinstall'"
     ]
    }
   ],
   "source": [
    "# Plot the total crashes\n",
    "sns.set_color_codes(\"colorblind\")\n",
    "graph = sns.catplot(x=\"Model\", y=\"R2\", kind=\"bar\", data=Results,palette=[\"navy\", \"g\", \"y\"], hue= \"Position\")\n",
    "graph.set_xticklabels(rotation=-45)\n",
    "# Add a legend and informative axis label\n",
    "ax.legend(ncol=2, loc=\"upper right\", frameon=True)\n",
    "graph.set(ylim=(-0.025, 0.35), ylabel=\"\",xlabel=\"\")\n",
    "sns.despine(left=True, bottom=True)\n",
    "plt.savefig(\"Img/Compared_R2_models.pdf\")\n",
    "plt.show()"
   ]
  },
  {
   "attachments": {},
   "cell_type": "markdown",
   "id": "2f2084fd-69a4-43db-8991-caaaa364dfe3",
   "metadata": {},
   "source": [
    "## Expanding windows"
   ]
  },
  {
   "cell_type": "code",
   "execution_count": null,
   "id": "f2425445",
   "metadata": {},
   "outputs": [
    {
     "ename": "",
     "evalue": "",
     "output_type": "error",
     "traceback": [
      "\u001b[1;31mRunning cells with 'c:\\Users\\Fondation\\AppData\\Local\\Microsoft\\WindowsApps\\python3.11.exe' requires the ipykernel package.\n",
      "\u001b[1;31mRun the following command to install 'ipykernel' into the Python environment. \n",
      "\u001b[1;31mCommand: 'c:/Users/Fondation/AppData/Local/Microsoft/WindowsApps/python3.11.exe -m pip install ipykernel -U --user --force-reinstall'"
     ]
    }
   ],
   "source": [
    "new_Model = []\n",
    "Moy = []\n",
    "new_Position = []"
   ]
  },
  {
   "cell_type": "code",
   "execution_count": null,
   "id": "8ea9095a",
   "metadata": {},
   "outputs": [
    {
     "ename": "",
     "evalue": "",
     "output_type": "error",
     "traceback": [
      "\u001b[1;31mRunning cells with 'c:\\Users\\Fondation\\AppData\\Local\\Microsoft\\WindowsApps\\python3.11.exe' requires the ipykernel package.\n",
      "\u001b[1;31mRun the following command to install 'ipykernel' into the Python environment. \n",
      "\u001b[1;31mCommand: 'c:/Users/Fondation/AppData/Local/Microsoft/WindowsApps/python3.11.exe -m pip install ipykernel -U --user --force-reinstall'"
     ]
    }
   ],
   "source": [
    "def expanding_window(model, name):\n",
    "\n",
    "    Y_R2_all = []\n",
    "    Y_R2_top = []\n",
    "    Y_R2_bottom = []\n",
    "    Year = []\n",
    "\n",
    "    yearXtrain = newGlob[(newGlob[\"Date\"] <= to_datetime(\"2012-12-31\"))]\n",
    "    yearYtrain = yearXtrain[\"Returns\"]\n",
    "\n",
    "    yearXtrain = yearXtrain.drop(columns= [\"Date\", \"Returns\"])\n",
    "\n",
    "    k = 156\n",
    "\n",
    "    #predictions = dict()\n",
    "\n",
    "    while k < dates.shape[0]: #\n",
    "\n",
    "        prev_Xtrain = yearXtrain\n",
    "        prev_Ytrain = yearYtrain\n",
    "        \n",
    "        if name in [\"NN4\", \"NN3\", \"NN5\"]: \n",
    "            model.fit(prev_Xtrain, prev_Ytrain, batch_size=15, epochs=30, shuffle=True)\n",
    "        else: \n",
    "            model.fit(prev_Xtrain, prev_Ytrain)\n",
    "        \n",
    "        \n",
    "        # Adding the year whose returns were just predicted to the training data. \n",
    "        if k+12 < dates.shape[0]: \n",
    "            yearX = newGlob[(newGlob[\"Date\"] > to_datetime(dates[k])) & (newGlob[\"Date\"] <= to_datetime(dates[k+12]))]\n",
    "            year_sortedX = newGlob[(newGlob[\"Date\"] > to_datetime(dates[k])) & (newGlob[\"Date\"] <= to_datetime(dates[k+12]))]\n",
    "        else: \n",
    "            yearX = newGlob[(newGlob[\"Date\"] > to_datetime(dates[k]))]\n",
    "            year_sortedX = newGlob[(newGlob[\"Date\"] > to_datetime(dates[k]))]\n",
    "\n",
    "        newY = yearX[\"Returns\"]\n",
    "        newX = yearX.drop(columns= [\"Date\", \"Returns\"])\n",
    "\n",
    "        X_sorted_top = year_sortedX.sort_values(by=[\"size\"], ascending = False)\n",
    "        year_topX = X_sorted_top.iloc[0:100, :]\n",
    "\n",
    "        X_sorted_bottom = year_sortedX.sort_values(by=[\"size\"], ascending = True)\n",
    "        year_bottomX = X_sorted_bottom.iloc[0:100, :]\n",
    "\n",
    "        new_topY = year_topX[\"Returns\"]\n",
    "        new_topX = year_topX.drop(columns = [\"Date\", \"Returns\"])\n",
    "\n",
    "        new_bottomY = year_bottomX[\"Returns\"]\n",
    "        new_bottomX = year_bottomX.drop(columns = [\"Date\", \"Returns\"])\n",
    "        \n",
    "        \n",
    "        year = dates[k+1][:4]\n",
    "        year_predict_all = model.predict(newX)\n",
    "        year_predict_top = model.predict(new_topX)\n",
    "        year_predict_bottom = model.predict(new_bottomX)\n",
    "\n",
    "        \n",
    "        #Getting the complexity of the model in terms of number of parameters\n",
    "        #last_coef = abs(np.array(model.coef_))\n",
    "        #relevant = np.where(last_coef > 0)\n",
    "        #complexity = len(relevant[0])\n",
    "\n",
    "        #Complexity.append(complexity)\n",
    "        Year.append(year)\n",
    "        Y_R2_all.append(r2_score(newY, year_predict_all))\n",
    "        Y_R2_top.append(r2_score(new_topY, year_predict_top))\n",
    "        Y_R2_bottom.append(r2_score(new_bottomY, year_predict_bottom))\n",
    "            \n",
    "        #predictions[dates[k+1]] = [newY, year_predict_all,r2_score(newY,year_predict_all)]\n",
    "        \n",
    "        yearXtrain = pd.concat([prev_Xtrain, newX], ignore_index=False)\n",
    "        yearYtrain = pd.concat([prev_Ytrain, newY], ignore_index=False)\n",
    "\n",
    "        k += 12\n",
    "    \n",
    "    R_complex = dict()\n",
    "    R_complex[\"Year\"] = Year\n",
    "    R_complex[\"Mean R2_All\"] = Y_R2_all\n",
    "    R_complex[\"Mean R2_Top\"] = Y_R2_top\n",
    "    R_complex[\"Mean R2_Bottom\"] = Y_R2_bottom\n",
    "    R_complex = pd.DataFrame(R_complex)\n",
    "\n",
    "\n",
    "    plt.figure(figsize=(15,6))\n",
    "    sns.set_theme(style=\"darkgrid\")\n",
    "    #sns.lineplot(x=\"Year\", y=\"R2_All\",data=R_complex) #.set_title(\"Evolution of the out-of-sample R2 score\")\n",
    "    #sns.lineplot(x=\"Year\", y=\"R2_Top\",data=R_complex)\n",
    "    #sns.lineplot(x=\"Year\", y=\"R2_Bottom\",data=R_complex)\n",
    "    sns.lineplot(x='Year', y='value', hue='variable', \n",
    "                data=pd.melt(R_complex, ['Year']),\n",
    "                palette=['red', 'blue', 'purple'])\n",
    "    plt.savefig(\"Img/expand_wind_\"+str(name)+\".pdf\")\n",
    "    plt.show()\n",
    "    new_Model.append(name)\n",
    "    Moy.append(np.mean(Y_R2_all))\n",
    "    new_Position.append(\"All\")\n",
    "\n",
    "    new_Model.append(name)\n",
    "    Moy.append(np.mean(Y_R2_top))\n",
    "    new_Position.append(\"Top\")\n",
    "\n",
    "    new_Model.append(name)\n",
    "    Moy.append(np.mean(Y_R2_bottom))\n",
    "    new_Position.append(\"Bottom\")\n",
    "\n",
    "    return name + \" - Done\"\n",
    "\n",
    "\n",
    "    "
   ]
  },
  {
   "attachments": {},
   "cell_type": "markdown",
   "id": "8869a264",
   "metadata": {},
   "source": [
    "### Expanding window with Elastic-Net"
   ]
  },
  {
   "cell_type": "code",
   "execution_count": null,
   "id": "86b144ee",
   "metadata": {},
   "outputs": [
    {
     "ename": "",
     "evalue": "",
     "output_type": "error",
     "traceback": [
      "\u001b[1;31mRunning cells with 'c:\\Users\\Fondation\\AppData\\Local\\Microsoft\\WindowsApps\\python3.11.exe' requires the ipykernel package.\n",
      "\u001b[1;31mRun the following command to install 'ipykernel' into the Python environment. \n",
      "\u001b[1;31mCommand: 'c:/Users/Fondation/AppData/Local/Microsoft/WindowsApps/python3.11.exe -m pip install ipykernel -U --user --force-reinstall'"
     ]
    }
   ],
   "source": [
    "Enet_H_final = SGDRegressor(alpha= 0.001, l1_ratio = 0.98, loss = 'huber', penalty = 'elasticnet')"
   ]
  },
  {
   "cell_type": "code",
   "execution_count": null,
   "id": "4d9400a5",
   "metadata": {},
   "outputs": [
    {
     "ename": "",
     "evalue": "",
     "output_type": "error",
     "traceback": [
      "\u001b[1;31mRunning cells with 'c:\\Users\\Fondation\\AppData\\Local\\Microsoft\\WindowsApps\\python3.11.exe' requires the ipykernel package.\n",
      "\u001b[1;31mRun the following command to install 'ipykernel' into the Python environment. \n",
      "\u001b[1;31mCommand: 'c:/Users/Fondation/AppData/Local/Microsoft/WindowsApps/python3.11.exe -m pip install ipykernel -U --user --force-reinstall'"
     ]
    }
   ],
   "source": [
    "expanding_window(Enet_H_final, \"Enet+H\")"
   ]
  },
  {
   "attachments": {},
   "cell_type": "markdown",
   "id": "44872a51",
   "metadata": {},
   "source": [
    "### Expanding window with Random Forest"
   ]
  },
  {
   "cell_type": "code",
   "execution_count": null,
   "id": "f9c0f842",
   "metadata": {},
   "outputs": [
    {
     "ename": "",
     "evalue": "",
     "output_type": "error",
     "traceback": [
      "\u001b[1;31mRunning cells with 'c:\\Users\\Fondation\\AppData\\Local\\Microsoft\\WindowsApps\\python3.11.exe' requires the ipykernel package.\n",
      "\u001b[1;31mRun the following command to install 'ipykernel' into the Python environment. \n",
      "\u001b[1;31mCommand: 'c:/Users/Fondation/AppData/Local/Microsoft/WindowsApps/python3.11.exe -m pip install ipykernel -U --user --force-reinstall'"
     ]
    }
   ],
   "source": [
    "expanding_window(RF, \"RF\")"
   ]
  },
  {
   "attachments": {},
   "cell_type": "markdown",
   "id": "3e5a0f52",
   "metadata": {},
   "source": [
    "### Expanding window with Gradient Boosting Regression"
   ]
  },
  {
   "cell_type": "code",
   "execution_count": null,
   "id": "278041a2",
   "metadata": {},
   "outputs": [
    {
     "ename": "",
     "evalue": "",
     "output_type": "error",
     "traceback": [
      "\u001b[1;31mRunning cells with 'c:\\Users\\Fondation\\AppData\\Local\\Microsoft\\WindowsApps\\python3.11.exe' requires the ipykernel package.\n",
      "\u001b[1;31mRun the following command to install 'ipykernel' into the Python environment. \n",
      "\u001b[1;31mCommand: 'c:/Users/Fondation/AppData/Local/Microsoft/WindowsApps/python3.11.exe -m pip install ipykernel -U --user --force-reinstall'"
     ]
    }
   ],
   "source": [
    "expanding_window(GBR, \"GBR\")"
   ]
  },
  {
   "attachments": {},
   "cell_type": "markdown",
   "id": "f9bff61f",
   "metadata": {},
   "source": [
    "### Expanding window with NN3"
   ]
  },
  {
   "cell_type": "code",
   "execution_count": null,
   "id": "16b9b027",
   "metadata": {},
   "outputs": [
    {
     "ename": "",
     "evalue": "",
     "output_type": "error",
     "traceback": [
      "\u001b[1;31mRunning cells with 'c:\\Users\\Fondation\\AppData\\Local\\Microsoft\\WindowsApps\\python3.11.exe' requires the ipykernel package.\n",
      "\u001b[1;31mRun the following command to install 'ipykernel' into the Python environment. \n",
      "\u001b[1;31mCommand: 'c:/Users/Fondation/AppData/Local/Microsoft/WindowsApps/python3.11.exe -m pip install ipykernel -U --user --force-reinstall'"
     ]
    }
   ],
   "source": [
    "expanding_window(NN3, \"NN3\")\n"
   ]
  },
  {
   "attachments": {},
   "cell_type": "markdown",
   "id": "27c1f3be",
   "metadata": {},
   "source": [
    "### Expanding window with NN4"
   ]
  },
  {
   "cell_type": "code",
   "execution_count": null,
   "id": "4f8e1c13",
   "metadata": {},
   "outputs": [
    {
     "ename": "",
     "evalue": "",
     "output_type": "error",
     "traceback": [
      "\u001b[1;31mRunning cells with 'c:\\Users\\Fondation\\AppData\\Local\\Microsoft\\WindowsApps\\python3.11.exe' requires the ipykernel package.\n",
      "\u001b[1;31mRun the following command to install 'ipykernel' into the Python environment. \n",
      "\u001b[1;31mCommand: 'c:/Users/Fondation/AppData/Local/Microsoft/WindowsApps/python3.11.exe -m pip install ipykernel -U --user --force-reinstall'"
     ]
    }
   ],
   "source": [
    "expanding_window(NN4, \"NN4\")"
   ]
  },
  {
   "attachments": {},
   "cell_type": "markdown",
   "id": "0042b2e8",
   "metadata": {},
   "source": [
    "### Expanding window with NN5"
   ]
  },
  {
   "cell_type": "code",
   "execution_count": null,
   "id": "1de157dc",
   "metadata": {},
   "outputs": [
    {
     "ename": "",
     "evalue": "",
     "output_type": "error",
     "traceback": [
      "\u001b[1;31mRunning cells with 'c:\\Users\\Fondation\\AppData\\Local\\Microsoft\\WindowsApps\\python3.11.exe' requires the ipykernel package.\n",
      "\u001b[1;31mRun the following command to install 'ipykernel' into the Python environment. \n",
      "\u001b[1;31mCommand: 'c:/Users/Fondation/AppData/Local/Microsoft/WindowsApps/python3.11.exe -m pip install ipykernel -U --user --force-reinstall'"
     ]
    }
   ],
   "source": [
    "expanding_window(NN5, \"NN5\")"
   ]
  },
  {
   "attachments": {},
   "cell_type": "markdown",
   "id": "27cc7525",
   "metadata": {},
   "source": [
    "### Expanding window with PLS"
   ]
  },
  {
   "cell_type": "code",
   "execution_count": null,
   "id": "23851a44",
   "metadata": {},
   "outputs": [
    {
     "ename": "",
     "evalue": "",
     "output_type": "error",
     "traceback": [
      "\u001b[1;31mRunning cells with 'c:\\Users\\Fondation\\AppData\\Local\\Microsoft\\WindowsApps\\python3.11.exe' requires the ipykernel package.\n",
      "\u001b[1;31mRun the following command to install 'ipykernel' into the Python environment. \n",
      "\u001b[1;31mCommand: 'c:/Users/Fondation/AppData/Local/Microsoft/WindowsApps/python3.11.exe -m pip install ipykernel -U --user --force-reinstall'"
     ]
    }
   ],
   "source": [
    "expanding_window(PLS_final_model, \"PLS\")"
   ]
  },
  {
   "attachments": {},
   "cell_type": "markdown",
   "id": "ecaee5bc",
   "metadata": {},
   "source": [
    "### Expanding window with OLS-3+H"
   ]
  },
  {
   "cell_type": "code",
   "execution_count": null,
   "id": "2beb91f9",
   "metadata": {},
   "outputs": [
    {
     "ename": "",
     "evalue": "",
     "output_type": "error",
     "traceback": [
      "\u001b[1;31mRunning cells with 'c:\\Users\\Fondation\\AppData\\Local\\Microsoft\\WindowsApps\\python3.11.exe' requires the ipykernel package.\n",
      "\u001b[1;31mRun the following command to install 'ipykernel' into the Python environment. \n",
      "\u001b[1;31mCommand: 'c:/Users/Fondation/AppData/Local/Microsoft/WindowsApps/python3.11.exe -m pip install ipykernel -U --user --force-reinstall'"
     ]
    }
   ],
   "source": [
    "expanding_window(OLS_H, \"OLS-3+H\")\n"
   ]
  },
  {
   "attachments": {},
   "cell_type": "markdown",
   "id": "9e1e7fc2",
   "metadata": {},
   "source": [
    "### Expanding window with PCR"
   ]
  },
  {
   "cell_type": "code",
   "execution_count": null,
   "id": "34b3897e",
   "metadata": {},
   "outputs": [
    {
     "ename": "",
     "evalue": "",
     "output_type": "error",
     "traceback": [
      "\u001b[1;31mRunning cells with 'c:\\Users\\Fondation\\AppData\\Local\\Microsoft\\WindowsApps\\python3.11.exe' requires the ipykernel package.\n",
      "\u001b[1;31mRun the following command to install 'ipykernel' into the Python environment. \n",
      "\u001b[1;31mCommand: 'c:/Users/Fondation/AppData/Local/Microsoft/WindowsApps/python3.11.exe -m pip install ipykernel -U --user --force-reinstall'"
     ]
    }
   ],
   "source": [
    "#Complexity = []\n",
    "Y_R2_all = []\n",
    "Y_R2_top = []\n",
    "Y_R2_bottom = []\n",
    "Year = []\n",
    "\n",
    "yearXtrain = newGlob[(newGlob[\"Date\"] <= to_datetime(\"2012-12-31\"))]\n",
    "yearYtrain = yearXtrain[\"Returns\"]\n",
    "\n",
    "yearXtrain = yearXtrain.drop(columns= [\"Date\", \"Returns\"])\n",
    "\n",
    "k = 156\n",
    "\n",
    "#predictions = dict()\n",
    "\n",
    "\n",
    "while k < dates.shape[0]: #\n",
    "\n",
    "    prev_Xtrain = yearXtrain\n",
    "    prev_Ytrain = yearYtrain\n",
    "    \n",
    "    # Defining the models\n",
    "    Enet_H = SGDRegressor(alpha= Config_pca[\"alpha\"], l1_ratio = Config_pca[\"l1_ratio\"], loss = 'huber', penalty = 'elasticnet')\n",
    "    Enet_H_final = Enet_H.fit(PCA_model.transform(prev_Xtrain), prev_Ytrain)\n",
    "    \n",
    "    \n",
    "    \n",
    "    # Adding the year whose returns were just predicted to the training data. \n",
    "    if k+12 < dates.shape[0]: \n",
    "        yearX = newGlob[(newGlob[\"Date\"] > to_datetime(dates[k])) & (newGlob[\"Date\"] <= to_datetime(dates[k+12]))]\n",
    "        year_sortedX = newGlob[(newGlob[\"Date\"] > to_datetime(dates[k])) & (newGlob[\"Date\"] <= to_datetime(dates[k+12]))]\n",
    "    else: \n",
    "        yearX = newGlob[(newGlob[\"Date\"] > to_datetime(dates[k]))]\n",
    "        year_sortedX = newGlob[(newGlob[\"Date\"] > to_datetime(dates[k]))]\n",
    "\n",
    "    newY = yearX[\"Returns\"]\n",
    "    newX = yearX.drop(columns= [\"Date\", \"Returns\"])\n",
    "\n",
    "    X_sorted_top = year_sortedX.sort_values(by=[\"size\"], ascending = False)\n",
    "    year_topX = X_sorted_top.iloc[0:100, :]\n",
    "\n",
    "    X_sorted_bottom = year_sortedX.sort_values(by=[\"size\"], ascending = True)\n",
    "    year_bottomX = X_sorted_bottom.iloc[0:100, :]\n",
    "\n",
    "    new_topY = year_topX[\"Returns\"]\n",
    "    new_topX = year_topX.drop(columns = [\"Date\", \"Returns\"])\n",
    "\n",
    "    new_bottomY = year_bottomX[\"Returns\"]\n",
    "    new_bottomX = year_bottomX.drop(columns = [\"Date\", \"Returns\"])\n",
    "    \n",
    "    \n",
    "    year = dates[k+1][:4]\n",
    "    year_predict_all = Enet_H_final.predict(PCA_model.transform(newX))\n",
    "    year_predict_top = Enet_H_final.predict(PCA_model.transform(new_topX))\n",
    "    year_predict_bottom = Enet_H_final.predict(PCA_model.transform(new_bottomX))\n",
    "\n",
    "    \n",
    "    #Getting the complexity of the model in terms of number of parameters\n",
    "    #last_coef = abs(np.array(Enet_H_final.coef_))\n",
    "    #relevant = np.where(last_coef > 0)\n",
    "    #complexity = len(relevant[0])\n",
    "\n",
    "    #Complexity.append(complexity)\n",
    "    Year.append(year)\n",
    "    Y_R2_all.append(r2_score(newY, year_predict_all))\n",
    "    Y_R2_top.append(r2_score(new_topY, year_predict_top))\n",
    "    Y_R2_bottom.append(r2_score(new_bottomY, year_predict_bottom))\n",
    "    \n",
    "        \n",
    "    #predictions[dates[k+1]] = [newY, year_predict_all,r2_score(newY,year_predict_all)]\n",
    "    \n",
    "    yearXtrain = pd.concat([prev_Xtrain, newX], ignore_index=False)\n",
    "    yearYtrain = pd.concat([prev_Ytrain, newY], ignore_index=False)\n",
    "\n",
    "    k += 12"
   ]
  },
  {
   "cell_type": "code",
   "execution_count": null,
   "id": "a81ca8f6",
   "metadata": {},
   "outputs": [
    {
     "ename": "",
     "evalue": "",
     "output_type": "error",
     "traceback": [
      "\u001b[1;31mRunning cells with 'c:\\Users\\Fondation\\AppData\\Local\\Microsoft\\WindowsApps\\python3.11.exe' requires the ipykernel package.\n",
      "\u001b[1;31mRun the following command to install 'ipykernel' into the Python environment. \n",
      "\u001b[1;31mCommand: 'c:/Users/Fondation/AppData/Local/Microsoft/WindowsApps/python3.11.exe -m pip install ipykernel -U --user --force-reinstall'"
     ]
    }
   ],
   "source": [
    "R_complex = dict()\n",
    "R_complex[\"Year\"] = Year\n",
    "R_complex[\"Mean R2_All\"] = Y_R2_all\n",
    "R_complex[\"Mean R2_Top\"] = Y_R2_top\n",
    "R_complex[\"Mean R2_Bottom\"] = Y_R2_bottom\n",
    "R_complex = pd.DataFrame(R_complex)"
   ]
  },
  {
   "cell_type": "code",
   "execution_count": null,
   "id": "1d14772d",
   "metadata": {},
   "outputs": [
    {
     "ename": "",
     "evalue": "",
     "output_type": "error",
     "traceback": [
      "\u001b[1;31mRunning cells with 'c:\\Users\\Fondation\\AppData\\Local\\Microsoft\\WindowsApps\\python3.11.exe' requires the ipykernel package.\n",
      "\u001b[1;31mRun the following command to install 'ipykernel' into the Python environment. \n",
      "\u001b[1;31mCommand: 'c:/Users/Fondation/AppData/Local/Microsoft/WindowsApps/python3.11.exe -m pip install ipykernel -U --user --force-reinstall'"
     ]
    }
   ],
   "source": [
    "plt.figure(figsize=(15,6))\n",
    "sns.set_theme(style=\"darkgrid\")\n",
    "#sns.lineplot(x=\"Year\", y=\"R2_All\",data=R_complex) #.set_title(\"Evolution of the out-of-sample R2 score\")\n",
    "#sns.lineplot(x=\"Year\", y=\"R2_Top\",data=R_complex)\n",
    "#sns.lineplot(x=\"Year\", y=\"R2_Bottom\",data=R_complex)\n",
    "sns.lineplot(x='Year', y='value', hue='variable', \n",
    "             data=pd.melt(R_complex, ['Year']),\n",
    "             palette=['red', 'blue', 'purple'])\n",
    "\n",
    "plt.savefig(\"Img/expand_wind_PCR.pdf\")\n",
    "\n",
    "plt.show()"
   ]
  },
  {
   "cell_type": "code",
   "execution_count": null,
   "id": "8b8f9bab",
   "metadata": {},
   "outputs": [
    {
     "ename": "",
     "evalue": "",
     "output_type": "error",
     "traceback": [
      "\u001b[1;31mRunning cells with 'c:\\Users\\Fondation\\AppData\\Local\\Microsoft\\WindowsApps\\python3.11.exe' requires the ipykernel package.\n",
      "\u001b[1;31mRun the following command to install 'ipykernel' into the Python environment. \n",
      "\u001b[1;31mCommand: 'c:/Users/Fondation/AppData/Local/Microsoft/WindowsApps/python3.11.exe -m pip install ipykernel -U --user --force-reinstall'"
     ]
    }
   ],
   "source": [
    "new_Model.append(\"PCA\")\n",
    "Moy.append(np.mean(Y_R2_all))\n",
    "new_Position.append(\"All\")\n",
    "\n",
    "new_Model.append(\"PCA\")\n",
    "Moy.append(np.mean(Y_R2_top))\n",
    "new_Position.append(\"Top\")\n",
    "\n",
    "new_Model.append(\"PCA\")\n",
    "Moy.append(np.mean(Y_R2_bottom))\n",
    "new_Position.append(\"Bottom\")"
   ]
  },
  {
   "cell_type": "code",
   "execution_count": null,
   "id": "d084f144",
   "metadata": {},
   "outputs": [
    {
     "ename": "",
     "evalue": "",
     "output_type": "error",
     "traceback": [
      "\u001b[1;31mRunning cells with 'c:\\Users\\Fondation\\AppData\\Local\\Microsoft\\WindowsApps\\python3.11.exe' requires the ipykernel package.\n",
      "\u001b[1;31mRun the following command to install 'ipykernel' into the Python environment. \n",
      "\u001b[1;31mCommand: 'c:/Users/Fondation/AppData/Local/Microsoft/WindowsApps/python3.11.exe -m pip install ipykernel -U --user --force-reinstall'"
     ]
    }
   ],
   "source": [
    "new_results = dict()\n",
    "new_results[\"Model\"] = new_Model\n",
    "new_results[\"R2\"] = Moy\n",
    "new_results[\"Position\"] = new_Position\n",
    "new_results = pd.DataFrame(new_results)\n",
    "new_results[\"Type\"] = \"With Expanding Window\""
   ]
  },
  {
   "cell_type": "code",
   "execution_count": null,
   "id": "7c8ddca3",
   "metadata": {},
   "outputs": [
    {
     "ename": "",
     "evalue": "",
     "output_type": "error",
     "traceback": [
      "\u001b[1;31mRunning cells with 'c:\\Users\\Fondation\\AppData\\Local\\Microsoft\\WindowsApps\\python3.11.exe' requires the ipykernel package.\n",
      "\u001b[1;31mRun the following command to install 'ipykernel' into the Python environment. \n",
      "\u001b[1;31mCommand: 'c:/Users/Fondation/AppData/Local/Microsoft/WindowsApps/python3.11.exe -m pip install ipykernel -U --user --force-reinstall'"
     ]
    }
   ],
   "source": [
    "overall_all_results = pd.concat([Results[Results[\"Position\"] == \"All\"], new_results[new_results[\"Position\"] == \"All\"]], ignore_index=False)"
   ]
  },
  {
   "cell_type": "code",
   "execution_count": null,
   "id": "fc2b35fe",
   "metadata": {},
   "outputs": [
    {
     "ename": "",
     "evalue": "",
     "output_type": "error",
     "traceback": [
      "\u001b[1;31mRunning cells with 'c:\\Users\\Fondation\\AppData\\Local\\Microsoft\\WindowsApps\\python3.11.exe' requires the ipykernel package.\n",
      "\u001b[1;31mRun the following command to install 'ipykernel' into the Python environment. \n",
      "\u001b[1;31mCommand: 'c:/Users/Fondation/AppData/Local/Microsoft/WindowsApps/python3.11.exe -m pip install ipykernel -U --user --force-reinstall'"
     ]
    }
   ],
   "source": [
    "# Plot the total crashes\n",
    "sns.set_color_codes(\"colorblind\")\n",
    "graph = sns.catplot(x=\"Model\", y=\"R2\", kind=\"bar\", data=overall_all_results,palette=[\"navy\", \"g\"], hue= \"Type\")\n",
    "graph.set_xticklabels(rotation=-45)\n",
    "#graph.fig.suptitle('\"Monthly Out-of-sample stock-level prediction performance (percentage R2)\"')\n",
    "# Add a legend and informative axis label\n",
    "ax.legend(ncol=2, loc=\"upper right\", frameon=True)\n",
    "#graph.set(ylim=(-0.3, 0.5), ylabel=\"\",xlabel=\"\")\n",
    "sns.despine(left=True, bottom=True)\n",
    "plt.savefig(\"Img/expandvswithoutexpand_all.pdf\")\n",
    "plt.show()"
   ]
  },
  {
   "cell_type": "code",
   "execution_count": null,
   "id": "3c78243e",
   "metadata": {},
   "outputs": [
    {
     "ename": "",
     "evalue": "",
     "output_type": "error",
     "traceback": [
      "\u001b[1;31mRunning cells with 'c:\\Users\\Fondation\\AppData\\Local\\Microsoft\\WindowsApps\\python3.11.exe' requires the ipykernel package.\n",
      "\u001b[1;31mRun the following command to install 'ipykernel' into the Python environment. \n",
      "\u001b[1;31mCommand: 'c:/Users/Fondation/AppData/Local/Microsoft/WindowsApps/python3.11.exe -m pip install ipykernel -U --user --force-reinstall'"
     ]
    }
   ],
   "source": [
    "overall_top_results = pd.concat([Results[Results[\"Position\"] == \"Top\"], new_results[new_results[\"Position\"] == \"Top\"]], ignore_index=False)"
   ]
  },
  {
   "cell_type": "code",
   "execution_count": null,
   "id": "8dee9a7c",
   "metadata": {},
   "outputs": [
    {
     "ename": "",
     "evalue": "",
     "output_type": "error",
     "traceback": [
      "\u001b[1;31mRunning cells with 'c:\\Users\\Fondation\\AppData\\Local\\Microsoft\\WindowsApps\\python3.11.exe' requires the ipykernel package.\n",
      "\u001b[1;31mRun the following command to install 'ipykernel' into the Python environment. \n",
      "\u001b[1;31mCommand: 'c:/Users/Fondation/AppData/Local/Microsoft/WindowsApps/python3.11.exe -m pip install ipykernel -U --user --force-reinstall'"
     ]
    }
   ],
   "source": [
    "# Plot the total crashes\n",
    "\n",
    "sns.set_color_codes(\"colorblind\")\n",
    "graph = sns.catplot(x=\"Model\", y=\"R2\", kind=\"bar\", data=overall_top_results,palette=[\"navy\", \"g\"], hue= \"Type\")\n",
    "graph.set_xticklabels(rotation=-45)\n",
    "#graph.fig.suptitle('\"Monthly Out-of-sample stock-level prediction performance (percentage R2)\"')\n",
    "# Add a legend and informative axis label\n",
    "ax.legend(ncol=2, loc=\"upper right\", frameon=True)\n",
    "#graph.set(ylim=(-0.3, 0.5), ylabel=\"\",xlabel=\"\")\n",
    "sns.despine(left=True, bottom=True)\n",
    "plt.savefig(\"Img/expandvswithoutexpand_top.pdf\")\n",
    "plt.show()"
   ]
  },
  {
   "cell_type": "code",
   "execution_count": null,
   "id": "427a6209",
   "metadata": {},
   "outputs": [
    {
     "ename": "",
     "evalue": "",
     "output_type": "error",
     "traceback": [
      "\u001b[1;31mRunning cells with 'c:\\Users\\Fondation\\AppData\\Local\\Microsoft\\WindowsApps\\python3.11.exe' requires the ipykernel package.\n",
      "\u001b[1;31mRun the following command to install 'ipykernel' into the Python environment. \n",
      "\u001b[1;31mCommand: 'c:/Users/Fondation/AppData/Local/Microsoft/WindowsApps/python3.11.exe -m pip install ipykernel -U --user --force-reinstall'"
     ]
    }
   ],
   "source": [
    "overall_bottom_results = pd.concat([Results[Results[\"Position\"] == \"Bottom\"], new_results[new_results[\"Position\"] == \"Bottom\"]], ignore_index=False)"
   ]
  },
  {
   "cell_type": "code",
   "execution_count": null,
   "id": "dd5b3c79",
   "metadata": {},
   "outputs": [
    {
     "ename": "",
     "evalue": "",
     "output_type": "error",
     "traceback": [
      "\u001b[1;31mRunning cells with 'c:\\Users\\Fondation\\AppData\\Local\\Microsoft\\WindowsApps\\python3.11.exe' requires the ipykernel package.\n",
      "\u001b[1;31mRun the following command to install 'ipykernel' into the Python environment. \n",
      "\u001b[1;31mCommand: 'c:/Users/Fondation/AppData/Local/Microsoft/WindowsApps/python3.11.exe -m pip install ipykernel -U --user --force-reinstall'"
     ]
    }
   ],
   "source": [
    "# Plot the total crashes\n",
    "sns.set_color_codes(\"colorblind\")\n",
    "graph = sns.catplot(x=\"Model\", y=\"R2\", kind=\"bar\", data=overall_bottom_results,palette=[\"navy\", \"g\"], hue= \"Type\")\n",
    "graph.set_xticklabels(rotation=-45)\n",
    "#graph.fig.suptitle('\"Monthly Out-of-sample stock-level prediction performance (percentage R2)\"')\n",
    "# Add a legend and informative axis label\n",
    "ax.legend(ncol=2, loc=\"upper right\", frameon=True)\n",
    "#graph.set(ylim=(-0.3, 0.5), ylabel=\"\",xlabel=\"\")\n",
    "sns.despine(left=True, bottom=True)\n",
    "plt.savefig(\"Img/expandvswithoutexpand_bottom.pdf\")\n",
    "\n",
    "plt.show()"
   ]
  }
 ],
 "metadata": {
  "kernelspec": {
   "display_name": "Python 3",
   "language": "python",
   "name": "python3"
  },
  "language_info": {
   "codemirror_mode": {
    "name": "ipython",
    "version": 3
   },
   "file_extension": ".py",
   "mimetype": "text/x-python",
   "name": "python",
   "nbconvert_exporter": "python",
   "pygments_lexer": "ipython3",
   "version": "3.11.3"
  }
 },
 "nbformat": 4,
 "nbformat_minor": 5
}
